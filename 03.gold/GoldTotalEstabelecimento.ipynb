{
 "cells": [
  {
   "cell_type": "markdown",
   "metadata": {
    "application/vnd.databricks.v1+cell": {
     "cellMetadata": {
      "byteLimit": 2048000,
      "rowLimit": 10000
     },
     "inputWidgets": {},
     "nuid": "8ea3cc9a-f5f4-4cf9-a2b8-f0644ec7e17a",
     "showTitle": false,
     "title": ""
    }
   },
   "source": [
    "## Informações Gerais\n",
    " | Informações | Detalhes |\n",
    " |------------|-------------|\n",
    " |Nome Tabela | gold.venda_total_estabelecimento |\n",
    " |Origem | silver.pedidos |\n",
    "\n",
    "## Histórico de Atualizações\n",
    " | Data | Desenvolvido por | Motivo |\n",
    " |:----:|--------------|--------|\n",
    " |14/09/2024 | Daniel Coutinho  | Criação do notebook |"
   ]
  },
  {
   "cell_type": "code",
   "execution_count": 0,
   "metadata": {
    "application/vnd.databricks.v1+cell": {
     "cellMetadata": {
      "byteLimit": 2048000,
      "rowLimit": 10000
     },
     "inputWidgets": {},
     "nuid": "d1c202f6-435e-4458-85f9-758f1a331ae4",
     "showTitle": false,
     "title": ""
    }
   },
   "outputs": [
    {
     "output_type": "display_data",
     "data": {
      "text/html": [
       "<style scoped>\n",
       "  .table-result-container {\n",
       "    max-height: 300px;\n",
       "    overflow: auto;\n",
       "  }\n",
       "  table, th, td {\n",
       "    border: 1px solid black;\n",
       "    border-collapse: collapse;\n",
       "  }\n",
       "  th, td {\n",
       "    padding: 5px;\n",
       "  }\n",
       "  th {\n",
       "    text-align: left;\n",
       "  }\n",
       "</style><div class='table-result-container'><table class='table-result'><thead style='background-color: white'><tr></tr></thead><tbody></tbody></table></div>"
      ]
     },
     "metadata": {
      "application/vnd.databricks.v1+output": {
       "addedWidgets": {},
       "aggData": [],
       "aggError": "",
       "aggOverflow": false,
       "aggSchema": [],
       "aggSeriesLimitReached": false,
       "aggType": "",
       "arguments": {},
       "columnCustomDisplayInfos": {},
       "data": [],
       "datasetInfos": [],
       "dbfsResultPath": null,
       "isJsonSchema": true,
       "metadata": {
        "dataframeName": null
       },
       "overflow": false,
       "plotOptions": {
        "customPlotOptions": {},
        "displayType": "table",
        "pivotAggregation": null,
        "pivotColumns": null,
        "xColumns": null,
        "yColumns": null
       },
       "removedWidgets": [],
       "schema": [],
       "type": "table"
      }
     },
     "output_type": "display_data"
    },
    {
     "output_type": "display_data",
     "data": {
      "text/html": [
       "<style scoped>\n",
       "  .table-result-container {\n",
       "    max-height: 300px;\n",
       "    overflow: auto;\n",
       "  }\n",
       "  table, th, td {\n",
       "    border: 1px solid black;\n",
       "    border-collapse: collapse;\n",
       "  }\n",
       "  th, td {\n",
       "    padding: 5px;\n",
       "  }\n",
       "  th {\n",
       "    text-align: left;\n",
       "  }\n",
       "</style><div class='table-result-container'><table class='table-result'><thead style='background-color: white'><tr></tr></thead><tbody></tbody></table></div>"
      ]
     },
     "metadata": {
      "application/vnd.databricks.v1+output": {
       "addedWidgets": {},
       "aggData": [],
       "aggError": "",
       "aggOverflow": false,
       "aggSchema": [],
       "aggSeriesLimitReached": false,
       "aggType": "",
       "arguments": {},
       "columnCustomDisplayInfos": {},
       "data": [],
       "datasetInfos": [],
       "dbfsResultPath": null,
       "isJsonSchema": true,
       "metadata": {
        "dataframeName": null
       },
       "overflow": false,
       "plotOptions": {
        "customPlotOptions": {},
        "displayType": "table",
        "pivotAggregation": null,
        "pivotColumns": null,
        "xColumns": null,
        "yColumns": null
       },
       "removedWidgets": [],
       "schema": [],
       "type": "table"
      }
     },
     "output_type": "display_data"
    },
    {
     "output_type": "display_data",
     "data": {
      "text/html": [
       "<style scoped>\n",
       "  .table-result-container {\n",
       "    max-height: 300px;\n",
       "    overflow: auto;\n",
       "  }\n",
       "  table, th, td {\n",
       "    border: 1px solid black;\n",
       "    border-collapse: collapse;\n",
       "  }\n",
       "  th, td {\n",
       "    padding: 5px;\n",
       "  }\n",
       "  th {\n",
       "    text-align: left;\n",
       "  }\n",
       "</style><div class='table-result-container'><table class='table-result'><thead style='background-color: white'><tr></tr></thead><tbody></tbody></table></div>"
      ]
     },
     "metadata": {
      "application/vnd.databricks.v1+output": {
       "addedWidgets": {},
       "aggData": [],
       "aggError": "",
       "aggOverflow": false,
       "aggSchema": [],
       "aggSeriesLimitReached": false,
       "aggType": "",
       "arguments": {},
       "columnCustomDisplayInfos": {},
       "data": [],
       "datasetInfos": [],
       "dbfsResultPath": null,
       "isJsonSchema": true,
       "metadata": {
        "dataframeName": null
       },
       "overflow": false,
       "plotOptions": {
        "customPlotOptions": {},
        "displayType": "table",
        "pivotAggregation": null,
        "pivotColumns": null,
        "xColumns": null,
        "yColumns": null
       },
       "removedWidgets": [],
       "schema": [],
       "type": "table"
      }
     },
     "output_type": "display_data"
    }
   ],
   "source": [
    "%run /Projeto_Ampev/00.config/Configurações"
   ]
  },
  {
   "cell_type": "code",
   "execution_count": 0,
   "metadata": {
    "application/vnd.databricks.v1+cell": {
     "cellMetadata": {
      "byteLimit": 2048000,
      "rowLimit": 10000
     },
     "inputWidgets": {},
     "nuid": "ec0b9ec8-b6df-46a3-ae56-6127b0b2e2c2",
     "showTitle": false,
     "title": ""
    }
   },
   "outputs": [],
   "source": [
    "# Importações\n",
    "from pyspark.sql.functions import current_date, current_timestamp, expr"
   ]
  },
  {
   "cell_type": "code",
   "execution_count": 0,
   "metadata": {
    "application/vnd.databricks.v1+cell": {
     "cellMetadata": {
      "byteLimit": 2048000,
      "rowLimit": 10000
     },
     "inputWidgets": {},
     "nuid": "f478c1ea-38d9-4925-8ba0-7f6438935097",
     "showTitle": false,
     "title": ""
    }
   },
   "outputs": [],
   "source": [
    "# Nome do esquema e tabela no catálogo\n",
    "database = \"gold\"\n",
    "tabela = \"venda_total_estabelecimento\""
   ]
  },
  {
   "cell_type": "code",
   "execution_count": 0,
   "metadata": {
    "application/vnd.databricks.v1+cell": {
     "cellMetadata": {
      "byteLimit": 2048000,
      "rowLimit": 10000
     },
     "inputWidgets": {},
     "nuid": "35936736-3bf8-4080-86ae-a1e0b51dddd4",
     "showTitle": false,
     "title": ""
    }
   },
   "outputs": [],
   "source": [
    "# Funções\n",
    "\n",
    "#Função que aplica os comentários na tabela\n",
    "def adicionaComentariosTabela(a,b,c,d):\n",
    "    spark.sql(f\"COMMENT ON TABLE {a}.{b} IS '{c}'\")\n",
    "    for key,value in d.items():\n",
    "        sqlaux = f\"ALTER TABLE {a}.{b} CHANGE COLUMN {key} COMMENT '{value}'\"\n",
    "        spark.sql(sqlaux)"
   ]
  },
  {
   "cell_type": "code",
   "execution_count": 0,
   "metadata": {
    "application/vnd.databricks.v1+cell": {
     "cellMetadata": {
      "byteLimit": 2048000,
      "rowLimit": 10000
     },
     "inputWidgets": {},
     "nuid": "240d0dac-4388-4b38-9827-08b970089e09",
     "showTitle": false,
     "title": ""
    }
   },
   "outputs": [],
   "source": [
    "#criação do df_pedidos com dados necessários para responder as perguntas do negócio\n",
    "df_pedidos = spark.sql(\n",
    "f\"\"\" \n",
    "SELECT\n",
    "    CAST(id_estabelecimento AS INT),\n",
    "    nome_estabelecimento,\n",
    "    produto AS nome_produto,\n",
    "    CAST(SUM(quantidade) AS INT) AS quantidade_total,\n",
    "    CAST(SUM(preco) AS DECIMAL(20,2)) AS valor_total\n",
    "FROM\n",
    "    silver.pedidos\n",
    "GROUP BY all\n",
    "\"\"\")"
   ]
  },
  {
   "cell_type": "code",
   "execution_count": 0,
   "metadata": {
    "application/vnd.databricks.v1+cell": {
     "cellMetadata": {
      "byteLimit": 2048000,
      "rowLimit": 10000
     },
     "inputWidgets": {},
     "nuid": "85b9856a-9c19-4c2f-a21f-db86069c3b12",
     "showTitle": false,
     "title": ""
    }
   },
   "outputs": [],
   "source": [
    "# incluir colunas de controle\n",
    "df_pedidos = df_pedidos.withColumn(\"data_carga\", current_date())\n",
    "df_pedidos = df_pedidos.withColumn(\"data_hora_carga\", expr(\"current_timestamp() - INTERVAL 3 HOURS\"))"
   ]
  },
  {
   "cell_type": "code",
   "execution_count": 0,
   "metadata": {
    "application/vnd.databricks.v1+cell": {
     "cellMetadata": {
      "byteLimit": 2048000,
      "rowLimit": 10000
     },
     "inputWidgets": {},
     "nuid": "f3df6110-7c7b-4bc8-b098-cdcd5d4a52aa",
     "showTitle": false,
     "title": ""
    }
   },
   "outputs": [],
   "source": [
    "#Comentario Tabela\n",
    "\n",
    "comentario_tabela = 'Entidade os produtos mais vendidos por estabelecimento'\n",
    "\n",
    "lista_comentario_colunas = {\n",
    "'id_estabelecimento' : 'Id do estabelecimento.',\n",
    "'nome_estabelecimento' : 'Nome do estabelecimento.',\n",
    "'nome_produto' : 'Nome do produto.',\n",
    "'quantidade_total' : 'Quantidade total vendida.',\n",
    "'valor_total' : 'Valor total vendido',\n",
    "'data_carga' : 'Data que o registro foi carregado',\n",
    "'data_hora_carga' : 'Data e hora que o registro foi carregado'\n",
    "}"
   ]
  },
  {
   "cell_type": "code",
   "execution_count": 0,
   "metadata": {
    "application/vnd.databricks.v1+cell": {
     "cellMetadata": {
      "byteLimit": 2048000,
      "rowLimit": 10000
     },
     "inputWidgets": {},
     "nuid": "e23dcbcf-0904-4c91-9feb-1071a8c4076a",
     "showTitle": false,
     "title": ""
    }
   },
   "outputs": [
    {
     "output_type": "stream",
     "name": "stdout",
     "output_type": "stream",
     "text": [
      "Dados gravados com sucesso!\n"
     ]
    }
   ],
   "source": [
    "# Salvar o DataFrame no formato Delta\n",
    "df_pedidos.write \\\n",
    "          .format('delta') \\\n",
    "          .mode('overwrite') \\\n",
    "          .clusterBy(\"id_estabelecimento\") \\\n",
    "          .option('overwriteSchema', 'true') \\\n",
    "          .saveAsTable(f'{database}.{tabela}')\n",
    "adicionaComentariosTabela(database, tabela, comentario_tabela, lista_comentario_colunas)\n",
    "print(\"Dados gravados com sucesso!\")"
   ]
  },
  {
   "cell_type": "code",
   "execution_count": 0,
   "metadata": {
    "application/vnd.databricks.v1+cell": {
     "cellMetadata": {
      "byteLimit": 2048000,
      "rowLimit": 10000
     },
     "inputWidgets": {},
     "nuid": "69df4f34-b201-4410-bead-f4a199c3b418",
     "showTitle": false,
     "title": ""
    }
   },
   "outputs": [
    {
     "output_type": "stream",
     "name": "stdout",
     "output_type": "stream",
     "text": [
      "Processo de otimização finalizado!.\n"
     ]
    }
   ],
   "source": [
    "# Otimização das tabelas\n",
    "spark.sql(f\"OPTIMIZE {database}.{tabela}\")\n",
    "print(f\"Processo de otimização finalizado!.\")"
   ]
  },
  {
   "cell_type": "code",
   "execution_count": 0,
   "metadata": {
    "application/vnd.databricks.v1+cell": {
     "cellMetadata": {
      "byteLimit": 2048000,
      "implicitDf": true,
      "rowLimit": 10000
     },
     "inputWidgets": {},
     "nuid": "91e723fa-ffa5-4d8a-82a4-d08c33721e6a",
     "showTitle": false,
     "title": ""
    }
   },
   "outputs": [
    {
     "output_type": "display_data",
     "data": {
      "text/html": [
       "<style scoped>\n",
       "  .table-result-container {\n",
       "    max-height: 300px;\n",
       "    overflow: auto;\n",
       "  }\n",
       "  table, th, td {\n",
       "    border: 1px solid black;\n",
       "    border-collapse: collapse;\n",
       "  }\n",
       "  th, td {\n",
       "    padding: 5px;\n",
       "  }\n",
       "  th {\n",
       "    text-align: left;\n",
       "  }\n",
       "</style><div class='table-result-container'><table class='table-result'><thead style='background-color: white'><tr><th>id_estabelecimento</th><th>nome_estabelecimento</th><th>nome_produto</th><th>quantidade_total</th><th>valor_total</th><th>data_carga</th><th>data_hora_carga</th></tr></thead><tbody><tr><td>31</td><td>Bar e Grill</td><td>Água Mineral</td><td>470</td><td>17.43</td><td>2024-09-19</td><td>2024-09-19T19:51:26.9Z</td></tr><tr><td>31</td><td>Bar e Grill</td><td>Suco Natural</td><td>412</td><td>16.41</td><td>2024-09-19</td><td>2024-09-19T19:51:26.9Z</td></tr><tr><td>31</td><td>Bar e Grill</td><td>Vinho ABC</td><td>1020</td><td>49.30</td><td>2024-09-19</td><td>2024-09-19T19:51:26.9Z</td></tr><tr><td>34</td><td>Sorveteria Sorvetão</td><td>Suco Natural</td><td>484</td><td>3.52</td><td>2024-09-19</td><td>2024-09-19T19:51:26.9Z</td></tr><tr><td>34</td><td>Sorveteria Sorvetão</td><td>Cerveja XYZ</td><td>308</td><td>7.21</td><td>2024-09-19</td><td>2024-09-19T19:51:26.9Z</td></tr><tr><td>34</td><td>Sorveteria Sorvetão</td><td>Refrigerante 123</td><td>392</td><td>13.64</td><td>2024-09-19</td><td>2024-09-19T19:51:26.9Z</td></tr><tr><td>28</td><td>Padaria São João</td><td>Suco Natural</td><td>893</td><td>16.46</td><td>2024-09-19</td><td>2024-09-19T19:51:26.9Z</td></tr><tr><td>28</td><td>Padaria São João</td><td>Água Mineral</td><td>51</td><td>13.69</td><td>2024-09-19</td><td>2024-09-19T19:51:26.9Z</td></tr><tr><td>28</td><td>Padaria São João</td><td>Vinho ABC</td><td>349</td><td>1.26</td><td>2024-09-19</td><td>2024-09-19T19:51:26.9Z</td></tr><tr><td>28</td><td>Padaria São João</td><td>Refrigerante 123</td><td>496</td><td>28.79</td><td>2024-09-19</td><td>2024-09-19T19:51:26.9Z</td></tr><tr><td>28</td><td>Padaria São João</td><td>Cerveja XYZ</td><td>227</td><td>2.72</td><td>2024-09-19</td><td>2024-09-19T19:51:26.9Z</td></tr><tr><td>26</td><td>Pet Shop Amigo Fiel</td><td>Cerveja XYZ</td><td>386</td><td>9.45</td><td>2024-09-19</td><td>2024-09-19T19:51:26.9Z</td></tr><tr><td>26</td><td>Pet Shop Amigo Fiel</td><td>Refrigerante 123</td><td>20</td><td>13.28</td><td>2024-09-19</td><td>2024-09-19T19:51:26.9Z</td></tr><tr><td>27</td><td>Oficina Mecânica</td><td>Água Mineral</td><td>457</td><td>18.48</td><td>2024-09-19</td><td>2024-09-19T19:51:26.9Z</td></tr><tr><td>27</td><td>Oficina Mecânica</td><td>Vinho ABC</td><td>484</td><td>16.74</td><td>2024-09-19</td><td>2024-09-19T19:51:26.9Z</td></tr><tr><td>27</td><td>Oficina Mecânica</td><td>Cerveja XYZ</td><td>1247</td><td>38.26</td><td>2024-09-19</td><td>2024-09-19T19:51:26.9Z</td></tr><tr><td>26</td><td>Pet Shop Amigo Fiel</td><td>Vinho ABC</td><td>255</td><td>13.80</td><td>2024-09-19</td><td>2024-09-19T19:51:26.9Z</td></tr><tr><td>44</td><td>Lanchonete do Bairro</td><td>Refrigerante 123</td><td>174</td><td>12.47</td><td>2024-09-19</td><td>2024-09-19T19:51:26.9Z</td></tr><tr><td>44</td><td>Lanchonete do Bairro</td><td>Água Mineral</td><td>326</td><td>13.45</td><td>2024-09-19</td><td>2024-09-19T19:51:26.9Z</td></tr><tr><td>44</td><td>Lanchonete do Bairro</td><td>Cerveja XYZ</td><td>92</td><td>14.17</td><td>2024-09-19</td><td>2024-09-19T19:51:26.9Z</td></tr><tr><td>12</td><td>Pastelaria do Mário</td><td>Água Mineral</td><td>239</td><td>2.13</td><td>2024-09-19</td><td>2024-09-19T19:51:26.9Z</td></tr><tr><td>12</td><td>Pastelaria do Mário</td><td>Refrigerante 123</td><td>359</td><td>28.29</td><td>2024-09-19</td><td>2024-09-19T19:51:26.9Z</td></tr><tr><td>12</td><td>Pastelaria do Mário</td><td>Vinho ABC</td><td>235</td><td>10.74</td><td>2024-09-19</td><td>2024-09-19T19:51:26.9Z</td></tr><tr><td>22</td><td>Papelaria Central</td><td>Suco Natural</td><td>397</td><td>28.03</td><td>2024-09-19</td><td>2024-09-19T19:51:26.9Z</td></tr><tr><td>47</td><td>Doceria Fina</td><td>Suco Natural</td><td>900</td><td>11.68</td><td>2024-09-19</td><td>2024-09-19T19:51:26.9Z</td></tr><tr><td>47</td><td>Doceria Fina</td><td>Refrigerante 123</td><td>842</td><td>16.13</td><td>2024-09-19</td><td>2024-09-19T19:51:26.9Z</td></tr><tr><td>1</td><td>Bar do mineiro</td><td>Cerveja XYZ</td><td>486</td><td>13.00</td><td>2024-09-19</td><td>2024-09-19T19:51:26.9Z</td></tr><tr><td>1</td><td>Bar do mineiro</td><td>Água Mineral</td><td>30</td><td>19.49</td><td>2024-09-19</td><td>2024-09-19T19:51:26.9Z</td></tr><tr><td>1</td><td>Bar do mineiro</td><td>Suco Natural</td><td>468</td><td>4.25</td><td>2024-09-19</td><td>2024-09-19T19:51:26.9Z</td></tr><tr><td>13</td><td>Hamburgueria Prime</td><td>Vinho ABC</td><td>106</td><td>10.19</td><td>2024-09-19</td><td>2024-09-19T19:51:26.9Z</td></tr><tr><td>13</td><td>Hamburgueria Prime</td><td>Água Mineral</td><td>280</td><td>8.93</td><td>2024-09-19</td><td>2024-09-19T19:51:26.9Z</td></tr><tr><td>13</td><td>Hamburgueria Prime</td><td>Cerveja XYZ</td><td>242</td><td>8.58</td><td>2024-09-19</td><td>2024-09-19T19:51:26.9Z</td></tr><tr><td>13</td><td>Hamburgueria Prime</td><td>Suco Natural</td><td>49</td><td>14.61</td><td>2024-09-19</td><td>2024-09-19T19:51:26.9Z</td></tr><tr><td>16</td><td>Adega do Luiz</td><td>Cerveja XYZ</td><td>325</td><td>18.41</td><td>2024-09-19</td><td>2024-09-19T19:51:26.9Z</td></tr><tr><td>6</td><td>Café Expresso</td><td>Cerveja XYZ</td><td>130</td><td>1.94</td><td>2024-09-19</td><td>2024-09-19T19:51:26.9Z</td></tr><tr><td>6</td><td>Café Expresso</td><td>Água Mineral</td><td>415</td><td>8.55</td><td>2024-09-19</td><td>2024-09-19T19:51:26.9Z</td></tr><tr><td>16</td><td>Adega do Luiz</td><td>Vinho ABC</td><td>380</td><td>15.19</td><td>2024-09-19</td><td>2024-09-19T19:51:26.9Z</td></tr><tr><td>16</td><td>Adega do Luiz</td><td>Água Mineral</td><td>178</td><td>4.26</td><td>2024-09-19</td><td>2024-09-19T19:51:26.9Z</td></tr><tr><td>6</td><td>Café Expresso</td><td>Suco Natural</td><td>541</td><td>27.85</td><td>2024-09-19</td><td>2024-09-19T19:51:26.9Z</td></tr><tr><td>6</td><td>Café Expresso</td><td>Refrigerante 123</td><td>481</td><td>14.62</td><td>2024-09-19</td><td>2024-09-19T19:51:26.9Z</td></tr><tr><td>3</td><td>Supermercado ABC</td><td>Vinho ABC</td><td>390</td><td>6.09</td><td>2024-09-19</td><td>2024-09-19T19:51:26.9Z</td></tr><tr><td>3</td><td>Supermercado ABC</td><td>Água Mineral</td><td>531</td><td>10.68</td><td>2024-09-19</td><td>2024-09-19T19:51:26.9Z</td></tr><tr><td>20</td><td>Farmácia Popular</td><td>Cerveja XYZ</td><td>285</td><td>15.67</td><td>2024-09-19</td><td>2024-09-19T19:51:26.9Z</td></tr><tr><td>20</td><td>Farmácia Popular</td><td>Água Mineral</td><td>540</td><td>18.68</td><td>2024-09-19</td><td>2024-09-19T19:51:26.9Z</td></tr><tr><td>20</td><td>Farmácia Popular</td><td>Refrigerante 123</td><td>971</td><td>18.99</td><td>2024-09-19</td><td>2024-09-19T19:51:26.9Z</td></tr><tr><td>40</td><td>Restaurante Mexicano</td><td>Água Mineral</td><td>834</td><td>30.87</td><td>2024-09-19</td><td>2024-09-19T19:51:26.9Z</td></tr><tr><td>40</td><td>Restaurante Mexicano</td><td>Vinho ABC</td><td>213</td><td>15.57</td><td>2024-09-19</td><td>2024-09-19T19:51:26.9Z</td></tr><tr><td>20</td><td>Farmácia Popular</td><td>Suco Natural</td><td>882</td><td>33.25</td><td>2024-09-19</td><td>2024-09-19T19:51:26.9Z</td></tr><tr><td>40</td><td>Restaurante Mexicano</td><td>Cerveja XYZ</td><td>232</td><td>33.55</td><td>2024-09-19</td><td>2024-09-19T19:51:26.9Z</td></tr><tr><td>48</td><td>Cervejaria Gourmet</td><td>Cerveja XYZ</td><td>406</td><td>30.26</td><td>2024-09-19</td><td>2024-09-19T19:51:26.9Z</td></tr><tr><td>48</td><td>Cervejaria Gourmet</td><td>Vinho ABC</td><td>301</td><td>9.41</td><td>2024-09-19</td><td>2024-09-19T19:51:26.9Z</td></tr><tr><td>48</td><td>Cervejaria Gourmet</td><td>Refrigerante 123</td><td>184</td><td>15.33</td><td>2024-09-19</td><td>2024-09-19T19:51:26.9Z</td></tr><tr><td>48</td><td>Cervejaria Gourmet</td><td>Água Mineral</td><td>613</td><td>39.12</td><td>2024-09-19</td><td>2024-09-19T19:51:26.9Z</td></tr><tr><td>5</td><td>Lanchonete da Maria</td><td>Refrigerante 123</td><td>127</td><td>4.02</td><td>2024-09-19</td><td>2024-09-19T19:51:26.9Z</td></tr><tr><td>5</td><td>Lanchonete da Maria</td><td>Suco Natural</td><td>668</td><td>26.10</td><td>2024-09-19</td><td>2024-09-19T19:51:26.9Z</td></tr><tr><td>19</td><td>Barbearia do Toninho</td><td>Suco Natural</td><td>414</td><td>2.13</td><td>2024-09-19</td><td>2024-09-19T19:51:26.9Z</td></tr><tr><td>19</td><td>Barbearia do Toninho</td><td>Cerveja XYZ</td><td>846</td><td>22.14</td><td>2024-09-19</td><td>2024-09-19T19:51:26.9Z</td></tr><tr><td>19</td><td>Barbearia do Toninho</td><td>Vinho ABC</td><td>720</td><td>34.73</td><td>2024-09-19</td><td>2024-09-19T19:51:26.9Z</td></tr><tr><td>19</td><td>Barbearia do Toninho</td><td>Refrigerante 123</td><td>499</td><td>6.57</td><td>2024-09-19</td><td>2024-09-19T19:51:26.9Z</td></tr><tr><td>19</td><td>Barbearia do Toninho</td><td>Água Mineral</td><td>177</td><td>4.37</td><td>2024-09-19</td><td>2024-09-19T19:51:26.9Z</td></tr><tr><td>41</td><td>Pizzaria Italiana</td><td>Suco Natural</td><td>511</td><td>19.72</td><td>2024-09-19</td><td>2024-09-19T19:51:26.9Z</td></tr><tr><td>41</td><td>Pizzaria Italiana</td><td>Cerveja XYZ</td><td>1068</td><td>27.40</td><td>2024-09-19</td><td>2024-09-19T19:51:26.9Z</td></tr><tr><td>43</td><td>Restaurante Brasileiro</td><td>Refrigerante 123</td><td>414</td><td>1.42</td><td>2024-09-19</td><td>2024-09-19T19:51:26.9Z</td></tr><tr><td>15</td><td>Padoca do Zé</td><td>Água Mineral</td><td>990</td><td>38.56</td><td>2024-09-19</td><td>2024-09-19T19:51:26.9Z</td></tr><tr><td>15</td><td>Padoca do Zé</td><td>Cerveja XYZ</td><td>315</td><td>16.31</td><td>2024-09-19</td><td>2024-09-19T19:51:26.9Z</td></tr><tr><td>43</td><td>Restaurante Brasileiro</td><td>Suco Natural</td><td>756</td><td>19.89</td><td>2024-09-19</td><td>2024-09-19T19:51:26.9Z</td></tr><tr><td>15</td><td>Padoca do Zé</td><td>Suco Natural</td><td>62</td><td>6.25</td><td>2024-09-19</td><td>2024-09-19T19:51:26.9Z</td></tr><tr><td>43</td><td>Restaurante Brasileiro</td><td>Vinho ABC</td><td>170</td><td>6.27</td><td>2024-09-19</td><td>2024-09-19T19:51:26.9Z</td></tr><tr><td>15</td><td>Padoca do Zé</td><td>Refrigerante 123</td><td>830</td><td>24.99</td><td>2024-09-19</td><td>2024-09-19T19:51:26.9Z</td></tr><tr><td>15</td><td>Padoca do Zé</td><td>Vinho ABC</td><td>880</td><td>39.17</td><td>2024-09-19</td><td>2024-09-19T19:51:26.9Z</td></tr><tr><td>37</td><td>Hamburgueria Burger</td><td>Água Mineral</td><td>338</td><td>3.53</td><td>2024-09-19</td><td>2024-09-19T19:51:26.9Z</td></tr><tr><td>37</td><td>Hamburgueria Burger</td><td>Cerveja XYZ</td><td>520</td><td>29.26</td><td>2024-09-19</td><td>2024-09-19T19:51:26.9Z</td></tr><tr><td>37</td><td>Hamburgueria Burger</td><td>Refrigerante 123</td><td>243</td><td>7.08</td><td>2024-09-19</td><td>2024-09-19T19:51:26.9Z</td></tr><tr><td>17</td><td>Botequim do Chico</td><td>Vinho ABC</td><td>773</td><td>19.64</td><td>2024-09-19</td><td>2024-09-19T19:51:26.9Z</td></tr><tr><td>9</td><td>Cantina Italiana</td><td>Vinho ABC</td><td>724</td><td>38.45</td><td>2024-09-19</td><td>2024-09-19T19:51:26.9Z</td></tr><tr><td>9</td><td>Cantina Italiana</td><td>Suco Natural</td><td>405</td><td>15.03</td><td>2024-09-19</td><td>2024-09-19T19:51:26.9Z</td></tr><tr><td>9</td><td>Cantina Italiana</td><td>Cerveja XYZ</td><td>44</td><td>19.92</td><td>2024-09-19</td><td>2024-09-19T19:51:26.9Z</td></tr><tr><td>17</td><td>Botequim do Chico</td><td>Refrigerante 123</td><td>446</td><td>9.45</td><td>2024-09-19</td><td>2024-09-19T19:51:26.9Z</td></tr><tr><td>9</td><td>Cantina Italiana</td><td>Refrigerante 123</td><td>350</td><td>11.16</td><td>2024-09-19</td><td>2024-09-19T19:51:26.9Z</td></tr><tr><td>9</td><td>Cantina Italiana</td><td>Água Mineral</td><td>475</td><td>10.84</td><td>2024-09-19</td><td>2024-09-19T19:51:26.9Z</td></tr><tr><td>35</td><td>Restaurante Japonês</td><td>Água Mineral</td><td>581</td><td>19.17</td><td>2024-09-19</td><td>2024-09-19T19:51:26.9Z</td></tr><tr><td>35</td><td>Restaurante Japonês</td><td>Refrigerante 123</td><td>433</td><td>1.28</td><td>2024-09-19</td><td>2024-09-19T19:51:26.9Z</td></tr><tr><td>35</td><td>Restaurante Japonês</td><td>Cerveja XYZ</td><td>105</td><td>16.39</td><td>2024-09-19</td><td>2024-09-19T19:51:26.9Z</td></tr><tr><td>4</td><td>Padaria do Paulo</td><td>Refrigerante 123</td><td>312</td><td>11.35</td><td>2024-09-19</td><td>2024-09-19T19:51:26.9Z</td></tr><tr><td>4</td><td>Padaria do Paulo</td><td>Suco Natural</td><td>297</td><td>11.80</td><td>2024-09-19</td><td>2024-09-19T19:51:26.9Z</td></tr><tr><td>4</td><td>Padaria do Paulo</td><td>Cerveja XYZ</td><td>510</td><td>29.98</td><td>2024-09-19</td><td>2024-09-19T19:51:26.9Z</td></tr><tr><td>4</td><td>Padaria do Paulo</td><td>Água Mineral</td><td>385</td><td>32.98</td><td>2024-09-19</td><td>2024-09-19T19:51:26.9Z</td></tr><tr><td>4</td><td>Padaria do Paulo</td><td>Vinho ABC</td><td>857</td><td>43.61</td><td>2024-09-19</td><td>2024-09-19T19:51:26.9Z</td></tr><tr><td>8</td><td>Churrascaria Gaúcha</td><td>Refrigerante 123</td><td>112</td><td>15.97</td><td>2024-09-19</td><td>2024-09-19T19:51:26.9Z</td></tr><tr><td>8</td><td>Churrascaria Gaúcha</td><td>Vinho ABC</td><td>146</td><td>1.26</td><td>2024-09-19</td><td>2024-09-19T19:51:26.9Z</td></tr><tr><td>23</td><td>Academia Fit</td><td>Suco Natural</td><td>488</td><td>14.85</td><td>2024-09-19</td><td>2024-09-19T19:51:26.9Z</td></tr><tr><td>23</td><td>Academia Fit</td><td>Cerveja XYZ</td><td>125</td><td>3.53</td><td>2024-09-19</td><td>2024-09-19T19:51:26.9Z</td></tr><tr><td>39</td><td>Bar da Esquina</td><td>Suco Natural</td><td>394</td><td>19.79</td><td>2024-09-19</td><td>2024-09-19T19:51:26.9Z</td></tr><tr><td>23</td><td>Academia Fit</td><td>Refrigerante 123</td><td>808</td><td>21.75</td><td>2024-09-19</td><td>2024-09-19T19:51:26.9Z</td></tr><tr><td>39</td><td>Bar da Esquina</td><td>Refrigerante 123</td><td>403</td><td>23.13</td><td>2024-09-19</td><td>2024-09-19T19:51:26.9Z</td></tr><tr><td>23</td><td>Academia Fit</td><td>Água Mineral</td><td>806</td><td>36.27</td><td>2024-09-19</td><td>2024-09-19T19:51:26.9Z</td></tr><tr><td>39</td><td>Bar da Esquina</td><td>Vinho ABC</td><td>1268</td><td>38.05</td><td>2024-09-19</td><td>2024-09-19T19:51:26.9Z</td></tr><tr><td>49</td><td>Mercadinho do Bairro</td><td>Água Mineral</td><td>301</td><td>6.48</td><td>2024-09-19</td><td>2024-09-19T19:51:26.9Z</td></tr><tr><td>49</td><td>Mercadinho do Bairro</td><td>Cerveja XYZ</td><td>634</td><td>25.31</td><td>2024-09-19</td><td>2024-09-19T19:51:26.9Z</td></tr><tr><td>7</td><td>Pizzaria Bella</td><td>Vinho ABC</td><td>205</td><td>11.64</td><td>2024-09-19</td><td>2024-09-19T19:51:26.9Z</td></tr><tr><td>7</td><td>Pizzaria Bella</td><td>Cerveja XYZ</td><td>173</td><td>14.00</td><td>2024-09-19</td><td>2024-09-19T19:51:26.9Z</td></tr><tr><td>7</td><td>Pizzaria Bella</td><td>Suco Natural</td><td>107</td><td>1.72</td><td>2024-09-19</td><td>2024-09-19T19:51:26.9Z</td></tr><tr><td>7</td><td>Pizzaria Bella</td><td>Refrigerante 123</td><td>707</td><td>30.16</td><td>2024-09-19</td><td>2024-09-19T19:51:26.9Z</td></tr><tr><td>7</td><td>Pizzaria Bella</td><td>Água Mineral</td><td>190</td><td>7.10</td><td>2024-09-19</td><td>2024-09-19T19:51:26.9Z</td></tr><tr><td>10</td><td>Mercadinho da Esquina</td><td>Cerveja XYZ</td><td>88</td><td>6.43</td><td>2024-09-19</td><td>2024-09-19T19:51:26.9Z</td></tr><tr><td>10</td><td>Mercadinho da Esquina</td><td>Vinho ABC</td><td>64</td><td>20.77</td><td>2024-09-19</td><td>2024-09-19T19:51:26.9Z</td></tr><tr><td>10</td><td>Mercadinho da Esquina</td><td>Refrigerante 123</td><td>207</td><td>9.82</td><td>2024-09-19</td><td>2024-09-19T19:51:26.9Z</td></tr><tr><td>10</td><td>Mercadinho da Esquina</td><td>Água Mineral</td><td>392</td><td>8.26</td><td>2024-09-19</td><td>2024-09-19T19:51:26.9Z</td></tr><tr><td>50</td><td>Bar do João</td><td>Suco Natural</td><td>1313</td><td>50.75</td><td>2024-09-19</td><td>2024-09-19T19:51:26.9Z</td></tr><tr><td>50</td><td>Bar do João</td><td>Água Mineral</td><td>532</td><td>26.84</td><td>2024-09-19</td><td>2024-09-19T19:51:26.9Z</td></tr><tr><td>50</td><td>Bar do João</td><td>Refrigerante 123</td><td>109</td><td>16.50</td><td>2024-09-19</td><td>2024-09-19T19:51:26.9Z</td></tr><tr><td>45</td><td>Pizzaria São Pedro</td><td>Suco Natural</td><td>98</td><td>3.33</td><td>2024-09-19</td><td>2024-09-19T19:51:26.9Z</td></tr><tr><td>45</td><td>Pizzaria São Pedro</td><td>Vinho ABC</td><td>88</td><td>4.87</td><td>2024-09-19</td><td>2024-09-19T19:51:26.9Z</td></tr><tr><td>45</td><td>Pizzaria São Pedro</td><td>Cerveja XYZ</td><td>381</td><td>7.28</td><td>2024-09-19</td><td>2024-09-19T19:51:26.9Z</td></tr><tr><td>38</td><td>Restaurante Francês</td><td>Vinho ABC</td><td>313</td><td>15.36</td><td>2024-09-19</td><td>2024-09-19T19:51:26.9Z</td></tr><tr><td>38</td><td>Restaurante Francês</td><td>Refrigerante 123</td><td>365</td><td>18.55</td><td>2024-09-19</td><td>2024-09-19T19:51:26.9Z</td></tr><tr><td>38</td><td>Restaurante Francês</td><td>Cerveja XYZ</td><td>238</td><td>1.30</td><td>2024-09-19</td><td>2024-09-19T19:51:26.9Z</td></tr><tr><td>25</td><td>Loja de Roupas Fashion</td><td>Suco Natural</td><td>318</td><td>13.56</td><td>2024-09-19</td><td>2024-09-19T19:51:26.9Z</td></tr><tr><td>25</td><td>Loja de Roupas Fashion</td><td>Água Mineral</td><td>598</td><td>31.42</td><td>2024-09-19</td><td>2024-09-19T19:51:26.9Z</td></tr><tr><td>25</td><td>Loja de Roupas Fashion</td><td>Refrigerante 123</td><td>34</td><td>16.12</td><td>2024-09-19</td><td>2024-09-19T19:51:26.9Z</td></tr><tr><td>25</td><td>Loja de Roupas Fashion</td><td>Vinho ABC</td><td>61</td><td>14.53</td><td>2024-09-19</td><td>2024-09-19T19:51:26.9Z</td></tr><tr><td>24</td><td>Salão Beleza Pura</td><td>Cerveja XYZ</td><td>727</td><td>33.59</td><td>2024-09-19</td><td>2024-09-19T19:51:26.9Z</td></tr><tr><td>24</td><td>Salão Beleza Pura</td><td>Refrigerante 123</td><td>480</td><td>12.53</td><td>2024-09-19</td><td>2024-09-19T19:51:26.9Z</td></tr><tr><td>24</td><td>Salão Beleza Pura</td><td>Suco Natural</td><td>503</td><td>24.16</td><td>2024-09-19</td><td>2024-09-19T19:51:26.9Z</td></tr><tr><td>24</td><td>Salão Beleza Pura</td><td>Água Mineral</td><td>183</td><td>2.99</td><td>2024-09-19</td><td>2024-09-19T19:51:26.9Z</td></tr><tr><td>29</td><td>Lanchonete Top</td><td>Cerveja XYZ</td><td>1488</td><td>42.35</td><td>2024-09-19</td><td>2024-09-19T19:51:26.9Z</td></tr><tr><td>29</td><td>Lanchonete Top</td><td>Água Mineral</td><td>106</td><td>4.73</td><td>2024-09-19</td><td>2024-09-19T19:51:26.9Z</td></tr><tr><td>29</td><td>Lanchonete Top</td><td>Vinho ABC</td><td>542</td><td>10.91</td><td>2024-09-19</td><td>2024-09-19T19:51:26.9Z</td></tr><tr><td>21</td><td>Livraria Cultura</td><td>Vinho ABC</td><td>256</td><td>16.60</td><td>2024-09-19</td><td>2024-09-19T19:51:26.9Z</td></tr><tr><td>21</td><td>Livraria Cultura</td><td>Refrigerante 123</td><td>45</td><td>7.68</td><td>2024-09-19</td><td>2024-09-19T19:51:26.9Z</td></tr><tr><td>21</td><td>Livraria Cultura</td><td>Cerveja XYZ</td><td>978</td><td>17.60</td><td>2024-09-19</td><td>2024-09-19T19:51:26.9Z</td></tr><tr><td>32</td><td>Chocolateria</td><td>Cerveja XYZ</td><td>215</td><td>15.64</td><td>2024-09-19</td><td>2024-09-19T19:51:26.9Z</td></tr><tr><td>32</td><td>Chocolateria</td><td>Água Mineral</td><td>327</td><td>11.68</td><td>2024-09-19</td><td>2024-09-19T19:51:26.9Z</td></tr><tr><td>33</td><td>Frutaria Tropical</td><td>Vinho ABC</td><td>670</td><td>33.91</td><td>2024-09-19</td><td>2024-09-19T19:51:26.9Z</td></tr><tr><td>33</td><td>Frutaria Tropical</td><td>Suco Natural</td><td>135</td><td>3.46</td><td>2024-09-19</td><td>2024-09-19T19:51:26.9Z</td></tr><tr><td>11</td><td>Doceria Delícia</td><td>Cerveja XYZ</td><td>270</td><td>12.22</td><td>2024-09-19</td><td>2024-09-19T19:51:26.9Z</td></tr><tr><td>11</td><td>Doceria Delícia</td><td>Água Mineral</td><td>536</td><td>28.54</td><td>2024-09-19</td><td>2024-09-19T19:51:26.9Z</td></tr><tr><td>14</td><td>Sorveteria Geladinho</td><td>Vinho ABC</td><td>930</td><td>53.01</td><td>2024-09-19</td><td>2024-09-19T19:51:26.9Z</td></tr><tr><td>42</td><td>Café Gourmet</td><td>Suco Natural</td><td>276</td><td>14.24</td><td>2024-09-19</td><td>2024-09-19T19:51:26.9Z</td></tr><tr><td>42</td><td>Café Gourmet</td><td>Cerveja XYZ</td><td>38</td><td>11.65</td><td>2024-09-19</td><td>2024-09-19T19:51:26.9Z</td></tr><tr><td>2</td><td>Restaurante da Ana</td><td>Cerveja XYZ</td><td>448</td><td>10.91</td><td>2024-09-19</td><td>2024-09-19T19:51:26.9Z</td></tr><tr><td>2</td><td>Restaurante da Ana</td><td>Vinho ABC</td><td>349</td><td>10.07</td><td>2024-09-19</td><td>2024-09-19T19:51:26.9Z</td></tr><tr><td>2</td><td>Restaurante da Ana</td><td>Suco Natural</td><td>439</td><td>10.89</td><td>2024-09-19</td><td>2024-09-19T19:51:26.9Z</td></tr><tr><td>2</td><td>Restaurante da Ana</td><td>Água Mineral</td><td>237</td><td>15.06</td><td>2024-09-19</td><td>2024-09-19T19:51:26.9Z</td></tr><tr><td>30</td><td>Restaurante Vegetariano</td><td>Cerveja XYZ</td><td>385</td><td>2.10</td><td>2024-09-19</td><td>2024-09-19T19:51:26.9Z</td></tr><tr><td>30</td><td>Restaurante Vegetariano</td><td>Suco Natural</td><td>306</td><td>12.93</td><td>2024-09-19</td><td>2024-09-19T19:51:26.9Z</td></tr><tr><td>30</td><td>Restaurante Vegetariano</td><td>Vinho ABC</td><td>574</td><td>24.08</td><td>2024-09-19</td><td>2024-09-19T19:51:26.9Z</td></tr><tr><td>30</td><td>Restaurante Vegetariano</td><td>Refrigerante 123</td><td>445</td><td>9.06</td><td>2024-09-19</td><td>2024-09-19T19:51:26.9Z</td></tr><tr><td>46</td><td>Pastelaria da Vila</td><td>Suco Natural</td><td>415</td><td>17.37</td><td>2024-09-19</td><td>2024-09-19T19:51:26.9Z</td></tr><tr><td>46</td><td>Pastelaria da Vila</td><td>Vinho ABC</td><td>277</td><td>15.81</td><td>2024-09-19</td><td>2024-09-19T19:51:26.9Z</td></tr><tr><td>46</td><td>Pastelaria da Vila</td><td>Refrigerante 123</td><td>180</td><td>8.48</td><td>2024-09-19</td><td>2024-09-19T19:51:26.9Z</td></tr><tr><td>18</td><td>Cervejaria Artesanal</td><td>Água Mineral</td><td>536</td><td>28.12</td><td>2024-09-19</td><td>2024-09-19T19:51:26.9Z</td></tr><tr><td>18</td><td>Cervejaria Artesanal</td><td>Cerveja XYZ</td><td>292</td><td>12.31</td><td>2024-09-19</td><td>2024-09-19T19:51:26.9Z</td></tr><tr><td>18</td><td>Cervejaria Artesanal</td><td>Vinho ABC</td><td>411</td><td>8.45</td><td>2024-09-19</td><td>2024-09-19T19:51:26.9Z</td></tr><tr><td>18</td><td>Cervejaria Artesanal</td><td>Refrigerante 123</td><td>273</td><td>31.16</td><td>2024-09-19</td><td>2024-09-19T19:51:26.9Z</td></tr><tr><td>36</td><td>Padaria do Bairro</td><td>Cerveja XYZ</td><td>782</td><td>35.94</td><td>2024-09-19</td><td>2024-09-19T19:51:26.9Z</td></tr><tr><td>36</td><td>Padaria do Bairro</td><td>Água Mineral</td><td>220</td><td>11.01</td><td>2024-09-19</td><td>2024-09-19T19:51:26.9Z</td></tr><tr><td>36</td><td>Padaria do Bairro</td><td>Vinho ABC</td><td>180</td><td>5.32</td><td>2024-09-19</td><td>2024-09-19T19:51:26.9Z</td></tr></tbody></table></div>"
      ]
     },
     "metadata": {
      "application/vnd.databricks.v1+output": {
       "addedWidgets": {},
       "aggData": [],
       "aggError": "",
       "aggOverflow": false,
       "aggSchema": [],
       "aggSeriesLimitReached": false,
       "aggType": "",
       "arguments": {},
       "columnCustomDisplayInfos": {},
       "data": [
        [
         31,
         "Bar e Grill",
         "Água Mineral",
         470,
         "17.43",
         "2024-09-19",
         "2024-09-19T19:51:26.9Z"
        ],
        [
         31,
         "Bar e Grill",
         "Suco Natural",
         412,
         "16.41",
         "2024-09-19",
         "2024-09-19T19:51:26.9Z"
        ],
        [
         31,
         "Bar e Grill",
         "Vinho ABC",
         1020,
         "49.30",
         "2024-09-19",
         "2024-09-19T19:51:26.9Z"
        ],
        [
         34,
         "Sorveteria Sorvetão",
         "Suco Natural",
         484,
         "3.52",
         "2024-09-19",
         "2024-09-19T19:51:26.9Z"
        ],
        [
         34,
         "Sorveteria Sorvetão",
         "Cerveja XYZ",
         308,
         "7.21",
         "2024-09-19",
         "2024-09-19T19:51:26.9Z"
        ],
        [
         34,
         "Sorveteria Sorvetão",
         "Refrigerante 123",
         392,
         "13.64",
         "2024-09-19",
         "2024-09-19T19:51:26.9Z"
        ],
        [
         28,
         "Padaria São João",
         "Suco Natural",
         893,
         "16.46",
         "2024-09-19",
         "2024-09-19T19:51:26.9Z"
        ],
        [
         28,
         "Padaria São João",
         "Água Mineral",
         51,
         "13.69",
         "2024-09-19",
         "2024-09-19T19:51:26.9Z"
        ],
        [
         28,
         "Padaria São João",
         "Vinho ABC",
         349,
         "1.26",
         "2024-09-19",
         "2024-09-19T19:51:26.9Z"
        ],
        [
         28,
         "Padaria São João",
         "Refrigerante 123",
         496,
         "28.79",
         "2024-09-19",
         "2024-09-19T19:51:26.9Z"
        ],
        [
         28,
         "Padaria São João",
         "Cerveja XYZ",
         227,
         "2.72",
         "2024-09-19",
         "2024-09-19T19:51:26.9Z"
        ],
        [
         26,
         "Pet Shop Amigo Fiel",
         "Cerveja XYZ",
         386,
         "9.45",
         "2024-09-19",
         "2024-09-19T19:51:26.9Z"
        ],
        [
         26,
         "Pet Shop Amigo Fiel",
         "Refrigerante 123",
         20,
         "13.28",
         "2024-09-19",
         "2024-09-19T19:51:26.9Z"
        ],
        [
         27,
         "Oficina Mecânica",
         "Água Mineral",
         457,
         "18.48",
         "2024-09-19",
         "2024-09-19T19:51:26.9Z"
        ],
        [
         27,
         "Oficina Mecânica",
         "Vinho ABC",
         484,
         "16.74",
         "2024-09-19",
         "2024-09-19T19:51:26.9Z"
        ],
        [
         27,
         "Oficina Mecânica",
         "Cerveja XYZ",
         1247,
         "38.26",
         "2024-09-19",
         "2024-09-19T19:51:26.9Z"
        ],
        [
         26,
         "Pet Shop Amigo Fiel",
         "Vinho ABC",
         255,
         "13.80",
         "2024-09-19",
         "2024-09-19T19:51:26.9Z"
        ],
        [
         44,
         "Lanchonete do Bairro",
         "Refrigerante 123",
         174,
         "12.47",
         "2024-09-19",
         "2024-09-19T19:51:26.9Z"
        ],
        [
         44,
         "Lanchonete do Bairro",
         "Água Mineral",
         326,
         "13.45",
         "2024-09-19",
         "2024-09-19T19:51:26.9Z"
        ],
        [
         44,
         "Lanchonete do Bairro",
         "Cerveja XYZ",
         92,
         "14.17",
         "2024-09-19",
         "2024-09-19T19:51:26.9Z"
        ],
        [
         12,
         "Pastelaria do Mário",
         "Água Mineral",
         239,
         "2.13",
         "2024-09-19",
         "2024-09-19T19:51:26.9Z"
        ],
        [
         12,
         "Pastelaria do Mário",
         "Refrigerante 123",
         359,
         "28.29",
         "2024-09-19",
         "2024-09-19T19:51:26.9Z"
        ],
        [
         12,
         "Pastelaria do Mário",
         "Vinho ABC",
         235,
         "10.74",
         "2024-09-19",
         "2024-09-19T19:51:26.9Z"
        ],
        [
         22,
         "Papelaria Central",
         "Suco Natural",
         397,
         "28.03",
         "2024-09-19",
         "2024-09-19T19:51:26.9Z"
        ],
        [
         47,
         "Doceria Fina",
         "Suco Natural",
         900,
         "11.68",
         "2024-09-19",
         "2024-09-19T19:51:26.9Z"
        ],
        [
         47,
         "Doceria Fina",
         "Refrigerante 123",
         842,
         "16.13",
         "2024-09-19",
         "2024-09-19T19:51:26.9Z"
        ],
        [
         1,
         "Bar do mineiro",
         "Cerveja XYZ",
         486,
         "13.00",
         "2024-09-19",
         "2024-09-19T19:51:26.9Z"
        ],
        [
         1,
         "Bar do mineiro",
         "Água Mineral",
         30,
         "19.49",
         "2024-09-19",
         "2024-09-19T19:51:26.9Z"
        ],
        [
         1,
         "Bar do mineiro",
         "Suco Natural",
         468,
         "4.25",
         "2024-09-19",
         "2024-09-19T19:51:26.9Z"
        ],
        [
         13,
         "Hamburgueria Prime",
         "Vinho ABC",
         106,
         "10.19",
         "2024-09-19",
         "2024-09-19T19:51:26.9Z"
        ],
        [
         13,
         "Hamburgueria Prime",
         "Água Mineral",
         280,
         "8.93",
         "2024-09-19",
         "2024-09-19T19:51:26.9Z"
        ],
        [
         13,
         "Hamburgueria Prime",
         "Cerveja XYZ",
         242,
         "8.58",
         "2024-09-19",
         "2024-09-19T19:51:26.9Z"
        ],
        [
         13,
         "Hamburgueria Prime",
         "Suco Natural",
         49,
         "14.61",
         "2024-09-19",
         "2024-09-19T19:51:26.9Z"
        ],
        [
         16,
         "Adega do Luiz",
         "Cerveja XYZ",
         325,
         "18.41",
         "2024-09-19",
         "2024-09-19T19:51:26.9Z"
        ],
        [
         6,
         "Café Expresso",
         "Cerveja XYZ",
         130,
         "1.94",
         "2024-09-19",
         "2024-09-19T19:51:26.9Z"
        ],
        [
         6,
         "Café Expresso",
         "Água Mineral",
         415,
         "8.55",
         "2024-09-19",
         "2024-09-19T19:51:26.9Z"
        ],
        [
         16,
         "Adega do Luiz",
         "Vinho ABC",
         380,
         "15.19",
         "2024-09-19",
         "2024-09-19T19:51:26.9Z"
        ],
        [
         16,
         "Adega do Luiz",
         "Água Mineral",
         178,
         "4.26",
         "2024-09-19",
         "2024-09-19T19:51:26.9Z"
        ],
        [
         6,
         "Café Expresso",
         "Suco Natural",
         541,
         "27.85",
         "2024-09-19",
         "2024-09-19T19:51:26.9Z"
        ],
        [
         6,
         "Café Expresso",
         "Refrigerante 123",
         481,
         "14.62",
         "2024-09-19",
         "2024-09-19T19:51:26.9Z"
        ],
        [
         3,
         "Supermercado ABC",
         "Vinho ABC",
         390,
         "6.09",
         "2024-09-19",
         "2024-09-19T19:51:26.9Z"
        ],
        [
         3,
         "Supermercado ABC",
         "Água Mineral",
         531,
         "10.68",
         "2024-09-19",
         "2024-09-19T19:51:26.9Z"
        ],
        [
         20,
         "Farmácia Popular",
         "Cerveja XYZ",
         285,
         "15.67",
         "2024-09-19",
         "2024-09-19T19:51:26.9Z"
        ],
        [
         20,
         "Farmácia Popular",
         "Água Mineral",
         540,
         "18.68",
         "2024-09-19",
         "2024-09-19T19:51:26.9Z"
        ],
        [
         20,
         "Farmácia Popular",
         "Refrigerante 123",
         971,
         "18.99",
         "2024-09-19",
         "2024-09-19T19:51:26.9Z"
        ],
        [
         40,
         "Restaurante Mexicano",
         "Água Mineral",
         834,
         "30.87",
         "2024-09-19",
         "2024-09-19T19:51:26.9Z"
        ],
        [
         40,
         "Restaurante Mexicano",
         "Vinho ABC",
         213,
         "15.57",
         "2024-09-19",
         "2024-09-19T19:51:26.9Z"
        ],
        [
         20,
         "Farmácia Popular",
         "Suco Natural",
         882,
         "33.25",
         "2024-09-19",
         "2024-09-19T19:51:26.9Z"
        ],
        [
         40,
         "Restaurante Mexicano",
         "Cerveja XYZ",
         232,
         "33.55",
         "2024-09-19",
         "2024-09-19T19:51:26.9Z"
        ],
        [
         48,
         "Cervejaria Gourmet",
         "Cerveja XYZ",
         406,
         "30.26",
         "2024-09-19",
         "2024-09-19T19:51:26.9Z"
        ],
        [
         48,
         "Cervejaria Gourmet",
         "Vinho ABC",
         301,
         "9.41",
         "2024-09-19",
         "2024-09-19T19:51:26.9Z"
        ],
        [
         48,
         "Cervejaria Gourmet",
         "Refrigerante 123",
         184,
         "15.33",
         "2024-09-19",
         "2024-09-19T19:51:26.9Z"
        ],
        [
         48,
         "Cervejaria Gourmet",
         "Água Mineral",
         613,
         "39.12",
         "2024-09-19",
         "2024-09-19T19:51:26.9Z"
        ],
        [
         5,
         "Lanchonete da Maria",
         "Refrigerante 123",
         127,
         "4.02",
         "2024-09-19",
         "2024-09-19T19:51:26.9Z"
        ],
        [
         5,
         "Lanchonete da Maria",
         "Suco Natural",
         668,
         "26.10",
         "2024-09-19",
         "2024-09-19T19:51:26.9Z"
        ],
        [
         19,
         "Barbearia do Toninho",
         "Suco Natural",
         414,
         "2.13",
         "2024-09-19",
         "2024-09-19T19:51:26.9Z"
        ],
        [
         19,
         "Barbearia do Toninho",
         "Cerveja XYZ",
         846,
         "22.14",
         "2024-09-19",
         "2024-09-19T19:51:26.9Z"
        ],
        [
         19,
         "Barbearia do Toninho",
         "Vinho ABC",
         720,
         "34.73",
         "2024-09-19",
         "2024-09-19T19:51:26.9Z"
        ],
        [
         19,
         "Barbearia do Toninho",
         "Refrigerante 123",
         499,
         "6.57",
         "2024-09-19",
         "2024-09-19T19:51:26.9Z"
        ],
        [
         19,
         "Barbearia do Toninho",
         "Água Mineral",
         177,
         "4.37",
         "2024-09-19",
         "2024-09-19T19:51:26.9Z"
        ],
        [
         41,
         "Pizzaria Italiana",
         "Suco Natural",
         511,
         "19.72",
         "2024-09-19",
         "2024-09-19T19:51:26.9Z"
        ],
        [
         41,
         "Pizzaria Italiana",
         "Cerveja XYZ",
         1068,
         "27.40",
         "2024-09-19",
         "2024-09-19T19:51:26.9Z"
        ],
        [
         43,
         "Restaurante Brasileiro",
         "Refrigerante 123",
         414,
         "1.42",
         "2024-09-19",
         "2024-09-19T19:51:26.9Z"
        ],
        [
         15,
         "Padoca do Zé",
         "Água Mineral",
         990,
         "38.56",
         "2024-09-19",
         "2024-09-19T19:51:26.9Z"
        ],
        [
         15,
         "Padoca do Zé",
         "Cerveja XYZ",
         315,
         "16.31",
         "2024-09-19",
         "2024-09-19T19:51:26.9Z"
        ],
        [
         43,
         "Restaurante Brasileiro",
         "Suco Natural",
         756,
         "19.89",
         "2024-09-19",
         "2024-09-19T19:51:26.9Z"
        ],
        [
         15,
         "Padoca do Zé",
         "Suco Natural",
         62,
         "6.25",
         "2024-09-19",
         "2024-09-19T19:51:26.9Z"
        ],
        [
         43,
         "Restaurante Brasileiro",
         "Vinho ABC",
         170,
         "6.27",
         "2024-09-19",
         "2024-09-19T19:51:26.9Z"
        ],
        [
         15,
         "Padoca do Zé",
         "Refrigerante 123",
         830,
         "24.99",
         "2024-09-19",
         "2024-09-19T19:51:26.9Z"
        ],
        [
         15,
         "Padoca do Zé",
         "Vinho ABC",
         880,
         "39.17",
         "2024-09-19",
         "2024-09-19T19:51:26.9Z"
        ],
        [
         37,
         "Hamburgueria Burger",
         "Água Mineral",
         338,
         "3.53",
         "2024-09-19",
         "2024-09-19T19:51:26.9Z"
        ],
        [
         37,
         "Hamburgueria Burger",
         "Cerveja XYZ",
         520,
         "29.26",
         "2024-09-19",
         "2024-09-19T19:51:26.9Z"
        ],
        [
         37,
         "Hamburgueria Burger",
         "Refrigerante 123",
         243,
         "7.08",
         "2024-09-19",
         "2024-09-19T19:51:26.9Z"
        ],
        [
         17,
         "Botequim do Chico",
         "Vinho ABC",
         773,
         "19.64",
         "2024-09-19",
         "2024-09-19T19:51:26.9Z"
        ],
        [
         9,
         "Cantina Italiana",
         "Vinho ABC",
         724,
         "38.45",
         "2024-09-19",
         "2024-09-19T19:51:26.9Z"
        ],
        [
         9,
         "Cantina Italiana",
         "Suco Natural",
         405,
         "15.03",
         "2024-09-19",
         "2024-09-19T19:51:26.9Z"
        ],
        [
         9,
         "Cantina Italiana",
         "Cerveja XYZ",
         44,
         "19.92",
         "2024-09-19",
         "2024-09-19T19:51:26.9Z"
        ],
        [
         17,
         "Botequim do Chico",
         "Refrigerante 123",
         446,
         "9.45",
         "2024-09-19",
         "2024-09-19T19:51:26.9Z"
        ],
        [
         9,
         "Cantina Italiana",
         "Refrigerante 123",
         350,
         "11.16",
         "2024-09-19",
         "2024-09-19T19:51:26.9Z"
        ],
        [
         9,
         "Cantina Italiana",
         "Água Mineral",
         475,
         "10.84",
         "2024-09-19",
         "2024-09-19T19:51:26.9Z"
        ],
        [
         35,
         "Restaurante Japonês",
         "Água Mineral",
         581,
         "19.17",
         "2024-09-19",
         "2024-09-19T19:51:26.9Z"
        ],
        [
         35,
         "Restaurante Japonês",
         "Refrigerante 123",
         433,
         "1.28",
         "2024-09-19",
         "2024-09-19T19:51:26.9Z"
        ],
        [
         35,
         "Restaurante Japonês",
         "Cerveja XYZ",
         105,
         "16.39",
         "2024-09-19",
         "2024-09-19T19:51:26.9Z"
        ],
        [
         4,
         "Padaria do Paulo",
         "Refrigerante 123",
         312,
         "11.35",
         "2024-09-19",
         "2024-09-19T19:51:26.9Z"
        ],
        [
         4,
         "Padaria do Paulo",
         "Suco Natural",
         297,
         "11.80",
         "2024-09-19",
         "2024-09-19T19:51:26.9Z"
        ],
        [
         4,
         "Padaria do Paulo",
         "Cerveja XYZ",
         510,
         "29.98",
         "2024-09-19",
         "2024-09-19T19:51:26.9Z"
        ],
        [
         4,
         "Padaria do Paulo",
         "Água Mineral",
         385,
         "32.98",
         "2024-09-19",
         "2024-09-19T19:51:26.9Z"
        ],
        [
         4,
         "Padaria do Paulo",
         "Vinho ABC",
         857,
         "43.61",
         "2024-09-19",
         "2024-09-19T19:51:26.9Z"
        ],
        [
         8,
         "Churrascaria Gaúcha",
         "Refrigerante 123",
         112,
         "15.97",
         "2024-09-19",
         "2024-09-19T19:51:26.9Z"
        ],
        [
         8,
         "Churrascaria Gaúcha",
         "Vinho ABC",
         146,
         "1.26",
         "2024-09-19",
         "2024-09-19T19:51:26.9Z"
        ],
        [
         23,
         "Academia Fit",
         "Suco Natural",
         488,
         "14.85",
         "2024-09-19",
         "2024-09-19T19:51:26.9Z"
        ],
        [
         23,
         "Academia Fit",
         "Cerveja XYZ",
         125,
         "3.53",
         "2024-09-19",
         "2024-09-19T19:51:26.9Z"
        ],
        [
         39,
         "Bar da Esquina",
         "Suco Natural",
         394,
         "19.79",
         "2024-09-19",
         "2024-09-19T19:51:26.9Z"
        ],
        [
         23,
         "Academia Fit",
         "Refrigerante 123",
         808,
         "21.75",
         "2024-09-19",
         "2024-09-19T19:51:26.9Z"
        ],
        [
         39,
         "Bar da Esquina",
         "Refrigerante 123",
         403,
         "23.13",
         "2024-09-19",
         "2024-09-19T19:51:26.9Z"
        ],
        [
         23,
         "Academia Fit",
         "Água Mineral",
         806,
         "36.27",
         "2024-09-19",
         "2024-09-19T19:51:26.9Z"
        ],
        [
         39,
         "Bar da Esquina",
         "Vinho ABC",
         1268,
         "38.05",
         "2024-09-19",
         "2024-09-19T19:51:26.9Z"
        ],
        [
         49,
         "Mercadinho do Bairro",
         "Água Mineral",
         301,
         "6.48",
         "2024-09-19",
         "2024-09-19T19:51:26.9Z"
        ],
        [
         49,
         "Mercadinho do Bairro",
         "Cerveja XYZ",
         634,
         "25.31",
         "2024-09-19",
         "2024-09-19T19:51:26.9Z"
        ],
        [
         7,
         "Pizzaria Bella",
         "Vinho ABC",
         205,
         "11.64",
         "2024-09-19",
         "2024-09-19T19:51:26.9Z"
        ],
        [
         7,
         "Pizzaria Bella",
         "Cerveja XYZ",
         173,
         "14.00",
         "2024-09-19",
         "2024-09-19T19:51:26.9Z"
        ],
        [
         7,
         "Pizzaria Bella",
         "Suco Natural",
         107,
         "1.72",
         "2024-09-19",
         "2024-09-19T19:51:26.9Z"
        ],
        [
         7,
         "Pizzaria Bella",
         "Refrigerante 123",
         707,
         "30.16",
         "2024-09-19",
         "2024-09-19T19:51:26.9Z"
        ],
        [
         7,
         "Pizzaria Bella",
         "Água Mineral",
         190,
         "7.10",
         "2024-09-19",
         "2024-09-19T19:51:26.9Z"
        ],
        [
         10,
         "Mercadinho da Esquina",
         "Cerveja XYZ",
         88,
         "6.43",
         "2024-09-19",
         "2024-09-19T19:51:26.9Z"
        ],
        [
         10,
         "Mercadinho da Esquina",
         "Vinho ABC",
         64,
         "20.77",
         "2024-09-19",
         "2024-09-19T19:51:26.9Z"
        ],
        [
         10,
         "Mercadinho da Esquina",
         "Refrigerante 123",
         207,
         "9.82",
         "2024-09-19",
         "2024-09-19T19:51:26.9Z"
        ],
        [
         10,
         "Mercadinho da Esquina",
         "Água Mineral",
         392,
         "8.26",
         "2024-09-19",
         "2024-09-19T19:51:26.9Z"
        ],
        [
         50,
         "Bar do João",
         "Suco Natural",
         1313,
         "50.75",
         "2024-09-19",
         "2024-09-19T19:51:26.9Z"
        ],
        [
         50,
         "Bar do João",
         "Água Mineral",
         532,
         "26.84",
         "2024-09-19",
         "2024-09-19T19:51:26.9Z"
        ],
        [
         50,
         "Bar do João",
         "Refrigerante 123",
         109,
         "16.50",
         "2024-09-19",
         "2024-09-19T19:51:26.9Z"
        ],
        [
         45,
         "Pizzaria São Pedro",
         "Suco Natural",
         98,
         "3.33",
         "2024-09-19",
         "2024-09-19T19:51:26.9Z"
        ],
        [
         45,
         "Pizzaria São Pedro",
         "Vinho ABC",
         88,
         "4.87",
         "2024-09-19",
         "2024-09-19T19:51:26.9Z"
        ],
        [
         45,
         "Pizzaria São Pedro",
         "Cerveja XYZ",
         381,
         "7.28",
         "2024-09-19",
         "2024-09-19T19:51:26.9Z"
        ],
        [
         38,
         "Restaurante Francês",
         "Vinho ABC",
         313,
         "15.36",
         "2024-09-19",
         "2024-09-19T19:51:26.9Z"
        ],
        [
         38,
         "Restaurante Francês",
         "Refrigerante 123",
         365,
         "18.55",
         "2024-09-19",
         "2024-09-19T19:51:26.9Z"
        ],
        [
         38,
         "Restaurante Francês",
         "Cerveja XYZ",
         238,
         "1.30",
         "2024-09-19",
         "2024-09-19T19:51:26.9Z"
        ],
        [
         25,
         "Loja de Roupas Fashion",
         "Suco Natural",
         318,
         "13.56",
         "2024-09-19",
         "2024-09-19T19:51:26.9Z"
        ],
        [
         25,
         "Loja de Roupas Fashion",
         "Água Mineral",
         598,
         "31.42",
         "2024-09-19",
         "2024-09-19T19:51:26.9Z"
        ],
        [
         25,
         "Loja de Roupas Fashion",
         "Refrigerante 123",
         34,
         "16.12",
         "2024-09-19",
         "2024-09-19T19:51:26.9Z"
        ],
        [
         25,
         "Loja de Roupas Fashion",
         "Vinho ABC",
         61,
         "14.53",
         "2024-09-19",
         "2024-09-19T19:51:26.9Z"
        ],
        [
         24,
         "Salão Beleza Pura",
         "Cerveja XYZ",
         727,
         "33.59",
         "2024-09-19",
         "2024-09-19T19:51:26.9Z"
        ],
        [
         24,
         "Salão Beleza Pura",
         "Refrigerante 123",
         480,
         "12.53",
         "2024-09-19",
         "2024-09-19T19:51:26.9Z"
        ],
        [
         24,
         "Salão Beleza Pura",
         "Suco Natural",
         503,
         "24.16",
         "2024-09-19",
         "2024-09-19T19:51:26.9Z"
        ],
        [
         24,
         "Salão Beleza Pura",
         "Água Mineral",
         183,
         "2.99",
         "2024-09-19",
         "2024-09-19T19:51:26.9Z"
        ],
        [
         29,
         "Lanchonete Top",
         "Cerveja XYZ",
         1488,
         "42.35",
         "2024-09-19",
         "2024-09-19T19:51:26.9Z"
        ],
        [
         29,
         "Lanchonete Top",
         "Água Mineral",
         106,
         "4.73",
         "2024-09-19",
         "2024-09-19T19:51:26.9Z"
        ],
        [
         29,
         "Lanchonete Top",
         "Vinho ABC",
         542,
         "10.91",
         "2024-09-19",
         "2024-09-19T19:51:26.9Z"
        ],
        [
         21,
         "Livraria Cultura",
         "Vinho ABC",
         256,
         "16.60",
         "2024-09-19",
         "2024-09-19T19:51:26.9Z"
        ],
        [
         21,
         "Livraria Cultura",
         "Refrigerante 123",
         45,
         "7.68",
         "2024-09-19",
         "2024-09-19T19:51:26.9Z"
        ],
        [
         21,
         "Livraria Cultura",
         "Cerveja XYZ",
         978,
         "17.60",
         "2024-09-19",
         "2024-09-19T19:51:26.9Z"
        ],
        [
         32,
         "Chocolateria",
         "Cerveja XYZ",
         215,
         "15.64",
         "2024-09-19",
         "2024-09-19T19:51:26.9Z"
        ],
        [
         32,
         "Chocolateria",
         "Água Mineral",
         327,
         "11.68",
         "2024-09-19",
         "2024-09-19T19:51:26.9Z"
        ],
        [
         33,
         "Frutaria Tropical",
         "Vinho ABC",
         670,
         "33.91",
         "2024-09-19",
         "2024-09-19T19:51:26.9Z"
        ],
        [
         33,
         "Frutaria Tropical",
         "Suco Natural",
         135,
         "3.46",
         "2024-09-19",
         "2024-09-19T19:51:26.9Z"
        ],
        [
         11,
         "Doceria Delícia",
         "Cerveja XYZ",
         270,
         "12.22",
         "2024-09-19",
         "2024-09-19T19:51:26.9Z"
        ],
        [
         11,
         "Doceria Delícia",
         "Água Mineral",
         536,
         "28.54",
         "2024-09-19",
         "2024-09-19T19:51:26.9Z"
        ],
        [
         14,
         "Sorveteria Geladinho",
         "Vinho ABC",
         930,
         "53.01",
         "2024-09-19",
         "2024-09-19T19:51:26.9Z"
        ],
        [
         42,
         "Café Gourmet",
         "Suco Natural",
         276,
         "14.24",
         "2024-09-19",
         "2024-09-19T19:51:26.9Z"
        ],
        [
         42,
         "Café Gourmet",
         "Cerveja XYZ",
         38,
         "11.65",
         "2024-09-19",
         "2024-09-19T19:51:26.9Z"
        ],
        [
         2,
         "Restaurante da Ana",
         "Cerveja XYZ",
         448,
         "10.91",
         "2024-09-19",
         "2024-09-19T19:51:26.9Z"
        ],
        [
         2,
         "Restaurante da Ana",
         "Vinho ABC",
         349,
         "10.07",
         "2024-09-19",
         "2024-09-19T19:51:26.9Z"
        ],
        [
         2,
         "Restaurante da Ana",
         "Suco Natural",
         439,
         "10.89",
         "2024-09-19",
         "2024-09-19T19:51:26.9Z"
        ],
        [
         2,
         "Restaurante da Ana",
         "Água Mineral",
         237,
         "15.06",
         "2024-09-19",
         "2024-09-19T19:51:26.9Z"
        ],
        [
         30,
         "Restaurante Vegetariano",
         "Cerveja XYZ",
         385,
         "2.10",
         "2024-09-19",
         "2024-09-19T19:51:26.9Z"
        ],
        [
         30,
         "Restaurante Vegetariano",
         "Suco Natural",
         306,
         "12.93",
         "2024-09-19",
         "2024-09-19T19:51:26.9Z"
        ],
        [
         30,
         "Restaurante Vegetariano",
         "Vinho ABC",
         574,
         "24.08",
         "2024-09-19",
         "2024-09-19T19:51:26.9Z"
        ],
        [
         30,
         "Restaurante Vegetariano",
         "Refrigerante 123",
         445,
         "9.06",
         "2024-09-19",
         "2024-09-19T19:51:26.9Z"
        ],
        [
         46,
         "Pastelaria da Vila",
         "Suco Natural",
         415,
         "17.37",
         "2024-09-19",
         "2024-09-19T19:51:26.9Z"
        ],
        [
         46,
         "Pastelaria da Vila",
         "Vinho ABC",
         277,
         "15.81",
         "2024-09-19",
         "2024-09-19T19:51:26.9Z"
        ],
        [
         46,
         "Pastelaria da Vila",
         "Refrigerante 123",
         180,
         "8.48",
         "2024-09-19",
         "2024-09-19T19:51:26.9Z"
        ],
        [
         18,
         "Cervejaria Artesanal",
         "Água Mineral",
         536,
         "28.12",
         "2024-09-19",
         "2024-09-19T19:51:26.9Z"
        ],
        [
         18,
         "Cervejaria Artesanal",
         "Cerveja XYZ",
         292,
         "12.31",
         "2024-09-19",
         "2024-09-19T19:51:26.9Z"
        ],
        [
         18,
         "Cervejaria Artesanal",
         "Vinho ABC",
         411,
         "8.45",
         "2024-09-19",
         "2024-09-19T19:51:26.9Z"
        ],
        [
         18,
         "Cervejaria Artesanal",
         "Refrigerante 123",
         273,
         "31.16",
         "2024-09-19",
         "2024-09-19T19:51:26.9Z"
        ],
        [
         36,
         "Padaria do Bairro",
         "Cerveja XYZ",
         782,
         "35.94",
         "2024-09-19",
         "2024-09-19T19:51:26.9Z"
        ],
        [
         36,
         "Padaria do Bairro",
         "Água Mineral",
         220,
         "11.01",
         "2024-09-19",
         "2024-09-19T19:51:26.9Z"
        ],
        [
         36,
         "Padaria do Bairro",
         "Vinho ABC",
         180,
         "5.32",
         "2024-09-19",
         "2024-09-19T19:51:26.9Z"
        ]
       ],
       "datasetInfos": [],
       "dbfsResultPath": null,
       "isJsonSchema": true,
       "metadata": {
        "createTempViewForImplicitDf": true,
        "dataframeName": "_sqldf",
        "executionCount": 9
       },
       "overflow": false,
       "plotOptions": {
        "customPlotOptions": {},
        "displayType": "table",
        "pivotAggregation": null,
        "pivotColumns": null,
        "xColumns": null,
        "yColumns": null
       },
       "removedWidgets": [],
       "schema": [
        {
         "metadata": "{\"comment\":\"Id do estabelecimento.\"}",
         "name": "id_estabelecimento",
         "type": "\"integer\""
        },
        {
         "metadata": "{\"comment\":\"Nome do estabelecimento.\"}",
         "name": "nome_estabelecimento",
         "type": "\"string\""
        },
        {
         "metadata": "{\"comment\":\"Nome do produto.\"}",
         "name": "nome_produto",
         "type": "\"string\""
        },
        {
         "metadata": "{\"comment\":\"Quantidade total vendida.\"}",
         "name": "quantidade_total",
         "type": "\"integer\""
        },
        {
         "metadata": "{\"comment\":\"Valor total vendido\"}",
         "name": "valor_total",
         "type": "\"decimal(20,2)\""
        },
        {
         "metadata": "{\"comment\":\"Data que o registro foi carregado\"}",
         "name": "data_carga",
         "type": "\"date\""
        },
        {
         "metadata": "{\"comment\":\"Data e hora que o registro foi carregado\"}",
         "name": "data_hora_carga",
         "type": "\"timestamp\""
        }
       ],
       "type": "table"
      }
     },
     "output_type": "display_data"
    }
   ],
   "source": [
    "%sql\n",
    "SELECT *\n",
    "FROM gold.venda_total_estabelecimento"
   ]
  },
  {
   "cell_type": "code",
   "execution_count": 0,
   "metadata": {
    "application/vnd.databricks.v1+cell": {
     "cellMetadata": {
      "byteLimit": 2048000,
      "implicitDf": true,
      "rowLimit": 10000
     },
     "inputWidgets": {},
     "nuid": "e6522e32-2d76-44bf-9f32-da0782b5c9fa",
     "showTitle": false,
     "title": ""
    }
   },
   "outputs": [
    {
     "output_type": "display_data",
     "data": {
      "text/html": [
       "<style scoped>\n",
       "  .table-result-container {\n",
       "    max-height: 300px;\n",
       "    overflow: auto;\n",
       "  }\n",
       "  table, th, td {\n",
       "    border: 1px solid black;\n",
       "    border-collapse: collapse;\n",
       "  }\n",
       "  th, td {\n",
       "    padding: 5px;\n",
       "  }\n",
       "  th {\n",
       "    text-align: left;\n",
       "  }\n",
       "</style><div class='table-result-container'><table class='table-result'><thead style='background-color: white'><tr><th>nome_estabelecimento</th><th>total_vendido</th></tr></thead><tbody><tr><td>Padoca do Zé</td><td>3077</td></tr><tr><td>Farmácia Popular</td><td>2678</td></tr><tr><td>Barbearia do Toninho</td><td>2656</td></tr><tr><td>Padaria do Paulo</td><td>2361</td></tr><tr><td>Academia Fit</td><td>2227</td></tr></tbody></table></div>"
      ]
     },
     "metadata": {
      "application/vnd.databricks.v1+output": {
       "addedWidgets": {},
       "aggData": [],
       "aggError": "",
       "aggOverflow": false,
       "aggSchema": [],
       "aggSeriesLimitReached": false,
       "aggType": "",
       "arguments": {},
       "columnCustomDisplayInfos": {},
       "data": [
        [
         "Padoca do Zé",
         3077
        ],
        [
         "Farmácia Popular",
         2678
        ],
        [
         "Barbearia do Toninho",
         2656
        ],
        [
         "Padaria do Paulo",
         2361
        ],
        [
         "Academia Fit",
         2227
        ]
       ],
       "datasetInfos": [],
       "dbfsResultPath": null,
       "isJsonSchema": true,
       "metadata": {
        "createTempViewForImplicitDf": true,
        "dataframeName": "_sqldf",
        "executionCount": 10
       },
       "overflow": false,
       "plotOptions": {
        "customPlotOptions": {},
        "displayType": "table",
        "pivotAggregation": null,
        "pivotColumns": null,
        "xColumns": null,
        "yColumns": null
       },
       "removedWidgets": [],
       "schema": [
        {
         "metadata": "{\"comment\":\"Nome do estabelecimento.\"}",
         "name": "nome_estabelecimento",
         "type": "\"string\""
        },
        {
         "metadata": "{}",
         "name": "total_vendido",
         "type": "\"long\""
        }
       ],
       "type": "table"
      }
     },
     "output_type": "display_data"
    }
   ],
   "source": [
    "%sql\n",
    "--Quais são as empresas que mais compraram produtos? \n",
    "SELECT nome_estabelecimento\n",
    "\t,SUM(quantidade_total) AS total_vendido\n",
    "FROM gold.venda_total_estabelecimento\n",
    "GROUP BY nome_estabelecimento\n",
    "ORDER BY total_vendido DESC LIMIT 5;"
   ]
  },
  {
   "cell_type": "code",
   "execution_count": 0,
   "metadata": {
    "application/vnd.databricks.v1+cell": {
     "cellMetadata": {
      "byteLimit": 2048000,
      "implicitDf": true,
      "rowLimit": 10000
     },
     "inputWidgets": {},
     "nuid": "1863df47-2a65-4729-8671-f60c3e9c7301",
     "showTitle": false,
     "title": ""
    }
   },
   "outputs": [
    {
     "output_type": "display_data",
     "data": {
      "text/html": [
       "<style scoped>\n",
       "  .table-result-container {\n",
       "    max-height: 300px;\n",
       "    overflow: auto;\n",
       "  }\n",
       "  table, th, td {\n",
       "    border: 1px solid black;\n",
       "    border-collapse: collapse;\n",
       "  }\n",
       "  th, td {\n",
       "    padding: 5px;\n",
       "  }\n",
       "  th {\n",
       "    text-align: left;\n",
       "  }\n",
       "</style><div class='table-result-container'><table class='table-result'><thead style='background-color: white'><tr><th>nome_estabelecimento</th><th>total_vendido</th></tr></thead><tbody><tr><td>Padoca do Zé</td><td>3077</td></tr></tbody></table></div>"
      ]
     },
     "metadata": {
      "application/vnd.databricks.v1+output": {
       "addedWidgets": {},
       "aggData": [],
       "aggError": "",
       "aggOverflow": false,
       "aggSchema": [],
       "aggSeriesLimitReached": false,
       "aggType": "",
       "arguments": {},
       "columnCustomDisplayInfos": {},
       "data": [
        [
         "Padoca do Zé",
         3077
        ]
       ],
       "datasetInfos": [],
       "dbfsResultPath": null,
       "isJsonSchema": true,
       "metadata": {
        "createTempViewForImplicitDf": true,
        "dataframeName": "_sqldf",
        "executionCount": 11
       },
       "overflow": false,
       "plotOptions": {
        "customPlotOptions": {},
        "displayType": "table",
        "pivotAggregation": null,
        "pivotColumns": null,
        "xColumns": null,
        "yColumns": null
       },
       "removedWidgets": [],
       "schema": [
        {
         "metadata": "{\"comment\":\"Nome do estabelecimento.\"}",
         "name": "nome_estabelecimento",
         "type": "\"string\""
        },
        {
         "metadata": "{}",
         "name": "total_vendido",
         "type": "\"long\""
        }
       ],
       "type": "table"
      }
     },
     "output_type": "display_data"
    }
   ],
   "source": [
    "%sql\n",
    "--O estabelecimento que mais vendeu\n",
    "SELECT nome_estabelecimento\n",
    "\t,SUM(quantidade_total) AS total_vendido\n",
    "FROM gold.venda_total_estabelecimento\n",
    "GROUP BY ALL\n",
    "ORDER BY total_vendido DESC LIMIT 1;"
   ]
  },
  {
   "cell_type": "code",
   "execution_count": 0,
   "metadata": {
    "application/vnd.databricks.v1+cell": {
     "cellMetadata": {
      "byteLimit": 2048000,
      "implicitDf": true,
      "rowLimit": 10000
     },
     "inputWidgets": {},
     "nuid": "e40c3ab2-5a8c-46f6-92c1-1f248ec36290",
     "showTitle": false,
     "title": ""
    }
   },
   "outputs": [
    {
     "output_type": "display_data",
     "data": {
      "text/html": [
       "<style scoped>\n",
       "  .table-result-container {\n",
       "    max-height: 300px;\n",
       "    overflow: auto;\n",
       "  }\n",
       "  table, th, td {\n",
       "    border: 1px solid black;\n",
       "    border-collapse: collapse;\n",
       "  }\n",
       "  th, td {\n",
       "    padding: 5px;\n",
       "  }\n",
       "  th {\n",
       "    text-align: left;\n",
       "  }\n",
       "</style><div class='table-result-container'><table class='table-result'><thead style='background-color: white'><tr><th>nome_produto</th><th>total_vendido</th></tr></thead><tbody><tr><td>Água Mineral</td><td>990</td></tr><tr><td>Vinho ABC</td><td>880</td></tr><tr><td>Refrigerante 123</td><td>830</td></tr><tr><td>Cerveja XYZ</td><td>315</td></tr><tr><td>Suco Natural</td><td>62</td></tr></tbody></table></div>"
      ]
     },
     "metadata": {
      "application/vnd.databricks.v1+output": {
       "addedWidgets": {},
       "aggData": [],
       "aggError": "",
       "aggOverflow": false,
       "aggSchema": [],
       "aggSeriesLimitReached": false,
       "aggType": "",
       "arguments": {},
       "columnCustomDisplayInfos": {},
       "data": [
        [
         "Água Mineral",
         990
        ],
        [
         "Vinho ABC",
         880
        ],
        [
         "Refrigerante 123",
         830
        ],
        [
         "Cerveja XYZ",
         315
        ],
        [
         "Suco Natural",
         62
        ]
       ],
       "datasetInfos": [],
       "dbfsResultPath": null,
       "isJsonSchema": true,
       "metadata": {
        "createTempViewForImplicitDf": true,
        "dataframeName": "_sqldf",
        "executionCount": 12
       },
       "overflow": false,
       "plotOptions": {
        "customPlotOptions": {},
        "displayType": "table",
        "pivotAggregation": null,
        "pivotColumns": null,
        "xColumns": null,
        "yColumns": null
       },
       "removedWidgets": [],
       "schema": [
        {
         "metadata": "{\"comment\":\"Nome do produto.\"}",
         "name": "nome_produto",
         "type": "\"string\""
        },
        {
         "metadata": "{}",
         "name": "total_vendido",
         "type": "\"long\""
        }
       ],
       "type": "table"
      }
     },
     "output_type": "display_data"
    },
    {
     "output_type": "display_data",
     "data": {
      "text/plain": [
       "Databricks visualization. Run in Databricks to view."
      ]
     },
     "metadata": {
      "application/vnd.databricks.v1.subcommand+json": {
       "baseErrorDetails": null,
       "bindings": {},
       "collapsed": false,
       "command": "%sql WITH q AS (WITH EstabelecimentoMaisVendeu\nAS (\n\tSELECT nome_estabelecimento\n\t\t,SUM(quantidade_total) AS total_vendido\n\tFROM gold.venda_total_estabelecimento\n\tGROUP BY nome_estabelecimento\n\tORDER BY total_vendido DESC LIMIT 1\n\t)\nSELECT nome_produto\n\t,SUM(quantidade_total) AS total_vendido\nFROM gold.venda_total_estabelecimento\nWHERE nome_estabelecimento = (\n\t\tSELECT nome_estabelecimento\n\t\tFROM EstabelecimentoMaisVendeu\n\t\t)\nGROUP BY ALL\nORDER BY total_vendido DESC) SELECT `nome_produto`,SUM(`total_vendido`) `column_2fc4d50816`,`total_vendido` FROM q GROUP BY `nome_produto`,`total_vendido`",
       "commandTitle": "Produtos mais vendidos na empresa #1",
       "commandType": "auto",
       "commandVersion": 0,
       "commentThread": [],
       "commentsVisible": false,
       "contentSha256Hex": null,
       "customPlotOptions": {
        "redashChart": [
         {
          "key": "type",
          "value": "CHART"
         },
         {
          "key": "options",
          "value": {
           "alignYAxesAtZero": true,
           "coefficient": 1,
           "columnConfigurationMap": {
            "series": {
             "column": "total_vendido",
             "id": "column_2fc4d50819"
            },
            "x": {
             "column": "nome_produto",
             "id": "column_2fc4d50815"
            },
            "y": [
             {
              "column": "total_vendido",
              "id": "column_2fc4d50816",
              "transform": "SUM"
             }
            ]
           },
           "dateTimeFormat": "DD/MM/YYYY HH:mm",
           "direction": {
            "type": "counterclockwise"
           },
           "error_y": {
            "type": "data",
            "visible": true
           },
           "globalSeriesType": "column",
           "isAggregationOn": true,
           "legend": {
            "traceorder": "normal"
           },
           "missingValuesAsZero": true,
           "numberFormat": "0,0.[00000]",
           "percentFormat": "0[.]00%",
           "series": {
            "error_y": {
             "type": "data",
             "visible": true
            },
            "stacking": "stack"
           },
           "seriesOptions": {
            "column_2fc4d50816": {
             "name": "total_vendido",
             "yAxis": 0
            }
           },
           "showDataLabels": true,
           "sizemode": "diameter",
           "sortX": false,
           "sortY": true,
           "swappedAxes": false,
           "textFormat": "",
           "useAggregationsUi": true,
           "valuesOptions": {},
           "version": 2,
           "xAxis": {
            "labels": {
             "enabled": true
            },
            "title": {
             "text": "Produtos vendidos"
            },
            "type": "-"
           },
           "yAxis": [
            {
             "title": {
              "text": "Vendas"
             },
             "type": "-"
            },
            {
             "opposite": true,
             "type": "-"
            }
           ]
          }
         }
        ]
       },
       "datasetPreviewNameToCmdIdMap": {},
       "diffDeletes": [],
       "diffInserts": [],
       "displayType": "redashChart",
       "error": null,
       "errorDetails": null,
       "errorSummary": null,
       "errorTraceType": null,
       "finishTime": 0,
       "globalVars": {},
       "guid": "",
       "height": "auto",
       "hideCommandCode": false,
       "hideCommandResult": false,
       "iPythonMetadata": null,
       "inputWidgets": {},
       "isLockedInExamMode": false,
       "latestUser": "a user",
       "latestUserId": null,
       "listResultMetadata": null,
       "metadata": {
        "byteLimit": 2048000,
        "implicitDf": true,
        "rowLimit": 10000
       },
       "nuid": "8cb8ddf6-e18f-443f-90c5-dd3bb55ab988",
       "origId": 0,
       "parentHierarchy": [],
       "pivotAggregation": null,
       "pivotColumns": null,
       "position": 14.0,
       "resultDbfsErrorMessage": null,
       "resultDbfsStatus": "INLINED_IN_TREE",
       "results": null,
       "showCommandTitle": false,
       "startTime": 0,
       "state": "finished",
       "streamStates": {},
       "subcommandOptions": {
        "queryPlan": {
         "groups": [
          {
           "column": "nome_produto",
           "type": "column"
          },
          {
           "column": "total_vendido",
           "type": "column"
          }
         ],
         "selects": [
          {
           "column": "nome_produto",
           "type": "column"
          },
          {
           "alias": "column_2fc4d50816",
           "args": [
            {
             "column": "total_vendido",
             "type": "column"
            }
           ],
           "function": "SUM",
           "type": "function"
          },
          {
           "column": "total_vendido",
           "type": "column"
          }
         ]
        }
       },
       "submitTime": 0,
       "subtype": "tableResultSubCmd.visualization",
       "tableResultIndex": 0,
       "tableResultSettingsMap": null,
       "useConsistentColors": false,
       "version": "CommandV1",
       "width": "auto",
       "workflows": [],
       "xColumns": null,
       "yColumns": null
      }
     },
     "output_type": "display_data"
    }
   ],
   "source": [
    "%sql\n",
    "--No estabelecimento que mais comprou, quais produtos mais vendidos?\n",
    "WITH EstabelecimentoMaisVendeu\n",
    "AS (\n",
    "\tSELECT nome_estabelecimento\n",
    "\t\t,SUM(quantidade_total) AS total_vendido\n",
    "\tFROM gold.venda_total_estabelecimento\n",
    "\tGROUP BY nome_estabelecimento\n",
    "\tORDER BY total_vendido DESC LIMIT 1\n",
    "\t)\n",
    "SELECT nome_produto\n",
    "\t,SUM(quantidade_total) AS total_vendido\n",
    "FROM gold.venda_total_estabelecimento\n",
    "WHERE nome_estabelecimento = (\n",
    "\t\tSELECT nome_estabelecimento\n",
    "\t\tFROM EstabelecimentoMaisVendeu\n",
    "\t\t)\n",
    "GROUP BY ALL\n",
    "ORDER BY total_vendido DESC"
   ]
  }
 ],
 "metadata": {
  "application/vnd.databricks.v1+notebook": {
   "dashboards": [],
   "environmentMetadata": null,
   "language": "python",
   "notebookMetadata": {
    "mostRecentlyExecutedCommandWithImplicitDF": {
     "commandId": 733252330132632,
     "dataframes": [
      "_sqldf"
     ]
    },
    "pythonIndentUnit": 4
   },
   "notebookName": "GoldTotalEstabelecimento",
   "widgets": {}
  }
 },
 "nbformat": 4,
 "nbformat_minor": 0
}
