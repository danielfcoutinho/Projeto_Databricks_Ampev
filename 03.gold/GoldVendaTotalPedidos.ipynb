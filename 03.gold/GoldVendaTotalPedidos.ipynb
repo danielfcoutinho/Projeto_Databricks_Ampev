{
 "cells": [
  {
   "cell_type": "markdown",
   "metadata": {
    "application/vnd.databricks.v1+cell": {
     "cellMetadata": {
      "byteLimit": 2048000,
      "rowLimit": 10000
     },
     "inputWidgets": {},
     "nuid": "8ea3cc9a-f5f4-4cf9-a2b8-f0644ec7e17a",
     "showTitle": false,
     "title": ""
    }
   },
   "source": [
    "## Informações Gerais\n",
    " | Informações | Detalhes |\n",
    " |------------|-------------|\n",
    " |Nome Tabela | gold.venda_total_produto |\n",
    " |Origem | silver.pedidos |\n",
    "\n",
    "## Histórico de Atualizações\n",
    " | Data | Desenvolvido por | Motivo |\n",
    " |:----:|--------------|--------|\n",
    " |14/09/2024 | Daniel Coutinho  | Criação do notebook |"
   ]
  },
  {
   "cell_type": "code",
   "execution_count": 0,
   "metadata": {
    "application/vnd.databricks.v1+cell": {
     "cellMetadata": {
      "byteLimit": 2048000,
      "rowLimit": 10000
     },
     "inputWidgets": {},
     "nuid": "d1c202f6-435e-4458-85f9-758f1a331ae4",
     "showTitle": false,
     "title": ""
    }
   },
   "outputs": [
    {
     "output_type": "display_data",
     "data": {
      "text/html": [
       "<style scoped>\n",
       "  .table-result-container {\n",
       "    max-height: 300px;\n",
       "    overflow: auto;\n",
       "  }\n",
       "  table, th, td {\n",
       "    border: 1px solid black;\n",
       "    border-collapse: collapse;\n",
       "  }\n",
       "  th, td {\n",
       "    padding: 5px;\n",
       "  }\n",
       "  th {\n",
       "    text-align: left;\n",
       "  }\n",
       "</style><div class='table-result-container'><table class='table-result'><thead style='background-color: white'><tr></tr></thead><tbody></tbody></table></div>"
      ]
     },
     "metadata": {
      "application/vnd.databricks.v1+output": {
       "addedWidgets": {},
       "aggData": [],
       "aggError": "",
       "aggOverflow": false,
       "aggSchema": [],
       "aggSeriesLimitReached": false,
       "aggType": "",
       "arguments": {},
       "columnCustomDisplayInfos": {},
       "data": [],
       "datasetInfos": [],
       "dbfsResultPath": null,
       "isJsonSchema": true,
       "metadata": {
        "dataframeName": null
       },
       "overflow": false,
       "plotOptions": {
        "customPlotOptions": {},
        "displayType": "table",
        "pivotAggregation": null,
        "pivotColumns": null,
        "xColumns": null,
        "yColumns": null
       },
       "removedWidgets": [],
       "schema": [],
       "type": "table"
      }
     },
     "output_type": "display_data"
    },
    {
     "output_type": "display_data",
     "data": {
      "text/html": [
       "<style scoped>\n",
       "  .table-result-container {\n",
       "    max-height: 300px;\n",
       "    overflow: auto;\n",
       "  }\n",
       "  table, th, td {\n",
       "    border: 1px solid black;\n",
       "    border-collapse: collapse;\n",
       "  }\n",
       "  th, td {\n",
       "    padding: 5px;\n",
       "  }\n",
       "  th {\n",
       "    text-align: left;\n",
       "  }\n",
       "</style><div class='table-result-container'><table class='table-result'><thead style='background-color: white'><tr></tr></thead><tbody></tbody></table></div>"
      ]
     },
     "metadata": {
      "application/vnd.databricks.v1+output": {
       "addedWidgets": {},
       "aggData": [],
       "aggError": "",
       "aggOverflow": false,
       "aggSchema": [],
       "aggSeriesLimitReached": false,
       "aggType": "",
       "arguments": {},
       "columnCustomDisplayInfos": {},
       "data": [],
       "datasetInfos": [],
       "dbfsResultPath": null,
       "isJsonSchema": true,
       "metadata": {
        "dataframeName": null
       },
       "overflow": false,
       "plotOptions": {
        "customPlotOptions": {},
        "displayType": "table",
        "pivotAggregation": null,
        "pivotColumns": null,
        "xColumns": null,
        "yColumns": null
       },
       "removedWidgets": [],
       "schema": [],
       "type": "table"
      }
     },
     "output_type": "display_data"
    },
    {
     "output_type": "display_data",
     "data": {
      "text/html": [
       "<style scoped>\n",
       "  .table-result-container {\n",
       "    max-height: 300px;\n",
       "    overflow: auto;\n",
       "  }\n",
       "  table, th, td {\n",
       "    border: 1px solid black;\n",
       "    border-collapse: collapse;\n",
       "  }\n",
       "  th, td {\n",
       "    padding: 5px;\n",
       "  }\n",
       "  th {\n",
       "    text-align: left;\n",
       "  }\n",
       "</style><div class='table-result-container'><table class='table-result'><thead style='background-color: white'><tr></tr></thead><tbody></tbody></table></div>"
      ]
     },
     "metadata": {
      "application/vnd.databricks.v1+output": {
       "addedWidgets": {},
       "aggData": [],
       "aggError": "",
       "aggOverflow": false,
       "aggSchema": [],
       "aggSeriesLimitReached": false,
       "aggType": "",
       "arguments": {},
       "columnCustomDisplayInfos": {},
       "data": [],
       "datasetInfos": [],
       "dbfsResultPath": null,
       "isJsonSchema": true,
       "metadata": {
        "dataframeName": null
       },
       "overflow": false,
       "plotOptions": {
        "customPlotOptions": {},
        "displayType": "table",
        "pivotAggregation": null,
        "pivotColumns": null,
        "xColumns": null,
        "yColumns": null
       },
       "removedWidgets": [],
       "schema": [],
       "type": "table"
      }
     },
     "output_type": "display_data"
    }
   ],
   "source": [
    "%run /Projeto_Ampev/00.config/Configurações"
   ]
  },
  {
   "cell_type": "code",
   "execution_count": 0,
   "metadata": {
    "application/vnd.databricks.v1+cell": {
     "cellMetadata": {
      "byteLimit": 2048000,
      "rowLimit": 10000
     },
     "inputWidgets": {},
     "nuid": "ec0b9ec8-b6df-46a3-ae56-6127b0b2e2c2",
     "showTitle": false,
     "title": ""
    }
   },
   "outputs": [],
   "source": [
    "# Importações\n",
    "from pyspark.sql.functions import current_date, current_timestamp, expr"
   ]
  },
  {
   "cell_type": "code",
   "execution_count": 0,
   "metadata": {
    "application/vnd.databricks.v1+cell": {
     "cellMetadata": {
      "byteLimit": 2048000,
      "rowLimit": 10000
     },
     "inputWidgets": {},
     "nuid": "f478c1ea-38d9-4925-8ba0-7f6438935097",
     "showTitle": false,
     "title": ""
    }
   },
   "outputs": [],
   "source": [
    "# Nome do esquema e tabela no catálogo\n",
    "database = \"gold\"\n",
    "tabela = \"venda_total_produto\""
   ]
  },
  {
   "cell_type": "code",
   "execution_count": 0,
   "metadata": {
    "application/vnd.databricks.v1+cell": {
     "cellMetadata": {
      "byteLimit": 2048000,
      "rowLimit": 10000
     },
     "inputWidgets": {},
     "nuid": "35936736-3bf8-4080-86ae-a1e0b51dddd4",
     "showTitle": false,
     "title": ""
    }
   },
   "outputs": [],
   "source": [
    "# Funções\n",
    "\n",
    "#Função que aplica os comentários na tabela\n",
    "def adicionaComentariosTabela(a,b,c,d):\n",
    "    spark.sql(f\"COMMENT ON TABLE {a}.{b} IS '{c}'\")\n",
    "    for key,value in d.items():\n",
    "        sqlaux = f\"ALTER TABLE {a}.{b} CHANGE COLUMN {key} COMMENT '{value}'\"\n",
    "        spark.sql(sqlaux)"
   ]
  },
  {
   "cell_type": "code",
   "execution_count": 0,
   "metadata": {
    "application/vnd.databricks.v1+cell": {
     "cellMetadata": {
      "byteLimit": 2048000,
      "rowLimit": 10000
     },
     "inputWidgets": {},
     "nuid": "240d0dac-4388-4b38-9827-08b970089e09",
     "showTitle": false,
     "title": ""
    }
   },
   "outputs": [],
   "source": [
    "#criação do df_produto com dados necessários para responder as perguntas do negócio\n",
    "df_produto = spark.sql(\n",
    "f\"\"\" \n",
    "SELECT\n",
    "    produto AS nome_produto,\n",
    "    CAST(SUM(quantidade) AS INT) AS quantidade_total,\n",
    "    CAST(SUM(preco) AS DECIMAL(20,2)) AS valor_total\n",
    "FROM\n",
    "    silver.pedidos\n",
    "GROUP BY all\n",
    "\"\"\")"
   ]
  },
  {
   "cell_type": "code",
   "execution_count": 0,
   "metadata": {
    "application/vnd.databricks.v1+cell": {
     "cellMetadata": {
      "byteLimit": 2048000,
      "rowLimit": 10000
     },
     "inputWidgets": {},
     "nuid": "85b9856a-9c19-4c2f-a21f-db86069c3b12",
     "showTitle": false,
     "title": ""
    }
   },
   "outputs": [],
   "source": [
    "# incluir colunas de controle\n",
    "df_produto = df_produto.withColumn(\"data_carga\", current_date())\n",
    "df_produto = df_produto.withColumn(\"data_hora_carga\", expr(\"current_timestamp() - INTERVAL 3 HOURS\"))"
   ]
  },
  {
   "cell_type": "code",
   "execution_count": 0,
   "metadata": {
    "application/vnd.databricks.v1+cell": {
     "cellMetadata": {
      "byteLimit": 2048000,
      "rowLimit": 10000
     },
     "inputWidgets": {},
     "nuid": "f3df6110-7c7b-4bc8-b098-cdcd5d4a52aa",
     "showTitle": false,
     "title": ""
    }
   },
   "outputs": [],
   "source": [
    "#Comentario Tabela\n",
    "\n",
    "comentario_tabela = 'Entidade contendo os pedidos mais vendidos'\n",
    "\n",
    "lista_comentario_colunas = {\n",
    "'nome_produto' : 'Nome do produto.',\n",
    "'quantidade_total' : 'Quantidade total vendida.',\n",
    "'valor_total' : 'Valor total vendido',\n",
    "'data_carga' : 'Data que o registro foi carregado',\n",
    "'data_hora_carga' : 'Data e hora que o registro foi carregado'\n",
    "}"
   ]
  },
  {
   "cell_type": "code",
   "execution_count": 0,
   "metadata": {
    "application/vnd.databricks.v1+cell": {
     "cellMetadata": {
      "byteLimit": 2048000,
      "rowLimit": 10000
     },
     "inputWidgets": {},
     "nuid": "e23dcbcf-0904-4c91-9feb-1071a8c4076a",
     "showTitle": false,
     "title": ""
    }
   },
   "outputs": [
    {
     "output_type": "stream",
     "name": "stdout",
     "output_type": "stream",
     "text": [
      "Dados gravados com sucesso!\n"
     ]
    }
   ],
   "source": [
    "# Salvar o DataFrame no formato Delta\n",
    "df_produto.write \\\n",
    "          .format('delta') \\\n",
    "          .mode('overwrite') \\\n",
    "          .clusterBy(\"nome_produto\") \\\n",
    "          .option('overwriteSchema', 'true') \\\n",
    "          .saveAsTable(f'{database}.{tabela}')\n",
    "adicionaComentariosTabela(database, tabela, comentario_tabela, lista_comentario_colunas)\n",
    "print(\"Dados gravados com sucesso!\")"
   ]
  },
  {
   "cell_type": "code",
   "execution_count": 0,
   "metadata": {
    "application/vnd.databricks.v1+cell": {
     "cellMetadata": {
      "byteLimit": 2048000,
      "rowLimit": 10000
     },
     "inputWidgets": {},
     "nuid": "69df4f34-b201-4410-bead-f4a199c3b418",
     "showTitle": false,
     "title": ""
    }
   },
   "outputs": [
    {
     "output_type": "stream",
     "name": "stdout",
     "output_type": "stream",
     "text": [
      "Processo de otimização finalizado!.\n"
     ]
    }
   ],
   "source": [
    "# Otimização das tabelas\n",
    "spark.sql(f\"OPTIMIZE {database}.{tabela}\")\n",
    "print(f\"Processo de otimização finalizado!.\")"
   ]
  },
  {
   "cell_type": "code",
   "execution_count": 0,
   "metadata": {
    "application/vnd.databricks.v1+cell": {
     "cellMetadata": {
      "byteLimit": 2048000,
      "implicitDf": true,
      "rowLimit": 10000
     },
     "inputWidgets": {},
     "nuid": "f1d33be7-19c7-47cf-8cd3-7a64ef7e5a93",
     "showTitle": false,
     "title": ""
    }
   },
   "outputs": [
    {
     "output_type": "display_data",
     "data": {
      "text/html": [
       "<style scoped>\n",
       "  .table-result-container {\n",
       "    max-height: 300px;\n",
       "    overflow: auto;\n",
       "  }\n",
       "  table, th, td {\n",
       "    border: 1px solid black;\n",
       "    border-collapse: collapse;\n",
       "  }\n",
       "  th, td {\n",
       "    padding: 5px;\n",
       "  }\n",
       "  th {\n",
       "    text-align: left;\n",
       "  }\n",
       "</style><div class='table-result-container'><table class='table-result'><thead style='background-color: white'><tr><th>nome_produto</th><th>quantidade_total</th><th>valor_total</th><th>data_carga</th><th>data_hora_carga</th></tr></thead><tbody><tr><td>Suco Natural</td><td>12931</td><td>444.03</td><td>2024-09-19</td><td>2024-09-19T19:51:46.271Z</td></tr><tr><td>Vinho ABC</td><td>14191</td><td>614.80</td><td>2024-09-19</td><td>2024-09-19T19:51:46.271Z</td></tr><tr><td>Refrigerante 123</td><td>11741</td><td>459.77</td><td>2024-09-19</td><td>2024-09-19T19:51:46.271Z</td></tr><tr><td>Cerveja XYZ</td><td>15036</td><td>606.78</td><td>2024-09-19</td><td>2024-09-19T19:51:46.271Z</td></tr><tr><td>Água Mineral</td><td>12874</td><td>533.71</td><td>2024-09-19</td><td>2024-09-19T19:51:46.271Z</td></tr></tbody></table></div>"
      ]
     },
     "metadata": {
      "application/vnd.databricks.v1+output": {
       "addedWidgets": {},
       "aggData": [],
       "aggError": "",
       "aggOverflow": false,
       "aggSchema": [],
       "aggSeriesLimitReached": false,
       "aggType": "",
       "arguments": {},
       "columnCustomDisplayInfos": {},
       "data": [
        [
         "Suco Natural",
         12931,
         "444.03",
         "2024-09-19",
         "2024-09-19T19:51:46.271Z"
        ],
        [
         "Vinho ABC",
         14191,
         "614.80",
         "2024-09-19",
         "2024-09-19T19:51:46.271Z"
        ],
        [
         "Refrigerante 123",
         11741,
         "459.77",
         "2024-09-19",
         "2024-09-19T19:51:46.271Z"
        ],
        [
         "Cerveja XYZ",
         15036,
         "606.78",
         "2024-09-19",
         "2024-09-19T19:51:46.271Z"
        ],
        [
         "Água Mineral",
         12874,
         "533.71",
         "2024-09-19",
         "2024-09-19T19:51:46.271Z"
        ]
       ],
       "datasetInfos": [],
       "dbfsResultPath": null,
       "isJsonSchema": true,
       "metadata": {
        "createTempViewForImplicitDf": true,
        "dataframeName": "_sqldf",
        "executionCount": 9
       },
       "overflow": false,
       "plotOptions": {
        "customPlotOptions": {},
        "displayType": "table",
        "pivotAggregation": null,
        "pivotColumns": null,
        "xColumns": null,
        "yColumns": null
       },
       "removedWidgets": [],
       "schema": [
        {
         "metadata": "{\"comment\":\"Nome do produto.\"}",
         "name": "nome_produto",
         "type": "\"string\""
        },
        {
         "metadata": "{\"comment\":\"Quantidade total vendida.\"}",
         "name": "quantidade_total",
         "type": "\"integer\""
        },
        {
         "metadata": "{\"comment\":\"Valor total vendido\"}",
         "name": "valor_total",
         "type": "\"decimal(20,2)\""
        },
        {
         "metadata": "{\"comment\":\"Data que o registro foi carregado\"}",
         "name": "data_carga",
         "type": "\"date\""
        },
        {
         "metadata": "{\"comment\":\"Data e hora que o registro foi carregado\"}",
         "name": "data_hora_carga",
         "type": "\"timestamp\""
        }
       ],
       "type": "table"
      }
     },
     "output_type": "display_data"
    }
   ],
   "source": [
    "%sql\n",
    "SELECT *\n",
    "FROM gold.venda_total_produto"
   ]
  },
  {
   "cell_type": "code",
   "execution_count": 0,
   "metadata": {
    "application/vnd.databricks.v1+cell": {
     "cellMetadata": {
      "byteLimit": 2048000,
      "implicitDf": true,
      "rowLimit": 10000
     },
     "inputWidgets": {},
     "nuid": "91e723fa-ffa5-4d8a-82a4-d08c33721e6a",
     "showTitle": false,
     "title": ""
    }
   },
   "outputs": [
    {
     "output_type": "display_data",
     "data": {
      "text/html": [
       "<style scoped>\n",
       "  .table-result-container {\n",
       "    max-height: 300px;\n",
       "    overflow: auto;\n",
       "  }\n",
       "  table, th, td {\n",
       "    border: 1px solid black;\n",
       "    border-collapse: collapse;\n",
       "  }\n",
       "  th, td {\n",
       "    padding: 5px;\n",
       "  }\n",
       "  th {\n",
       "    text-align: left;\n",
       "  }\n",
       "</style><div class='table-result-container'><table class='table-result'><thead style='background-color: white'><tr><th>nome_produto</th><th>quantidade_total</th><th>valor_total</th><th>data_carga</th><th>data_hora_carga</th></tr></thead><tbody><tr><td>Cerveja XYZ</td><td>15036</td><td>606.78</td><td>2024-09-19</td><td>2024-09-19T19:51:46.271Z</td></tr><tr><td>Vinho ABC</td><td>14191</td><td>614.80</td><td>2024-09-19</td><td>2024-09-19T19:51:46.271Z</td></tr><tr><td>Suco Natural</td><td>12931</td><td>444.03</td><td>2024-09-19</td><td>2024-09-19T19:51:46.271Z</td></tr><tr><td>Água Mineral</td><td>12874</td><td>533.71</td><td>2024-09-19</td><td>2024-09-19T19:51:46.271Z</td></tr><tr><td>Refrigerante 123</td><td>11741</td><td>459.77</td><td>2024-09-19</td><td>2024-09-19T19:51:46.271Z</td></tr></tbody></table></div>"
      ]
     },
     "metadata": {
      "application/vnd.databricks.v1+output": {
       "addedWidgets": {},
       "aggData": [],
       "aggError": "",
       "aggOverflow": false,
       "aggSchema": [],
       "aggSeriesLimitReached": false,
       "aggType": "",
       "arguments": {},
       "columnCustomDisplayInfos": {},
       "data": [
        [
         "Cerveja XYZ",
         15036,
         "606.78",
         "2024-09-19",
         "2024-09-19T19:51:46.271Z"
        ],
        [
         "Vinho ABC",
         14191,
         "614.80",
         "2024-09-19",
         "2024-09-19T19:51:46.271Z"
        ],
        [
         "Suco Natural",
         12931,
         "444.03",
         "2024-09-19",
         "2024-09-19T19:51:46.271Z"
        ],
        [
         "Água Mineral",
         12874,
         "533.71",
         "2024-09-19",
         "2024-09-19T19:51:46.271Z"
        ],
        [
         "Refrigerante 123",
         11741,
         "459.77",
         "2024-09-19",
         "2024-09-19T19:51:46.271Z"
        ]
       ],
       "datasetInfos": [],
       "dbfsResultPath": null,
       "isJsonSchema": true,
       "metadata": {
        "createTempViewForImplicitDf": true,
        "dataframeName": "_sqldf",
        "executionCount": 10
       },
       "overflow": false,
       "plotOptions": {
        "customPlotOptions": {},
        "displayType": "table",
        "pivotAggregation": null,
        "pivotColumns": null,
        "xColumns": null,
        "yColumns": null
       },
       "removedWidgets": [],
       "schema": [
        {
         "metadata": "{\"comment\":\"Nome do produto.\"}",
         "name": "nome_produto",
         "type": "\"string\""
        },
        {
         "metadata": "{\"comment\":\"Quantidade total vendida.\"}",
         "name": "quantidade_total",
         "type": "\"integer\""
        },
        {
         "metadata": "{\"comment\":\"Valor total vendido\"}",
         "name": "valor_total",
         "type": "\"decimal(20,2)\""
        },
        {
         "metadata": "{\"comment\":\"Data que o registro foi carregado\"}",
         "name": "data_carga",
         "type": "\"date\""
        },
        {
         "metadata": "{\"comment\":\"Data e hora que o registro foi carregado\"}",
         "name": "data_hora_carga",
         "type": "\"timestamp\""
        }
       ],
       "type": "table"
      }
     },
     "output_type": "display_data"
    },
    {
     "output_type": "display_data",
     "data": {
      "text/plain": [
       "Databricks visualization. Run in Databricks to view."
      ]
     },
     "metadata": {
      "application/vnd.databricks.v1.subcommand+json": {
       "baseErrorDetails": null,
       "bindings": {},
       "collapsed": false,
       "command": "%sql WITH q AS (SELECT *\nFROM gold.venda_total_produto\nORDER BY quantidade_total DESC limit 5) SELECT `nome_produto`,SUM(`quantidade_total`) `column_2fc4d50810`,`quantidade_total` FROM q GROUP BY `nome_produto`,`quantidade_total`",
       "commandTitle": "Vendas totais",
       "commandType": "auto",
       "commandVersion": 0,
       "commentThread": [],
       "commentsVisible": false,
       "contentSha256Hex": null,
       "customPlotOptions": {
        "redashChart": [
         {
          "key": "type",
          "value": "CHART"
         },
         {
          "key": "options",
          "value": {
           "alignYAxesAtZero": true,
           "coefficient": 1,
           "columnConfigurationMap": {
            "series": {
             "column": "quantidade_total",
             "id": "column_2fc4d50812"
            },
            "x": {
             "column": "nome_produto",
             "id": "column_2fc4d5088"
            },
            "y": [
             {
              "column": "quantidade_total",
              "id": "column_2fc4d50810",
              "transform": "SUM"
             }
            ]
           },
           "dateTimeFormat": "DD/MM/YYYY HH:mm",
           "direction": {
            "type": "counterclockwise"
           },
           "error_y": {
            "type": "data",
            "visible": true
           },
           "globalSeriesType": "column",
           "isAggregationOn": true,
           "legend": {
            "traceorder": "normal"
           },
           "missingValuesAsZero": true,
           "numberFormat": "0,0.[00000]",
           "percentFormat": "0[.]00%",
           "series": {
            "error_y": {
             "type": "data",
             "visible": true
            },
            "percentValues": false,
            "stacking": "stack"
           },
           "seriesOptions": {
            "column_2fc4d50810": {
             "type": "column",
             "yAxis": 0
            }
           },
           "showDataLabels": true,
           "sizemode": "diameter",
           "sortX": false,
           "sortY": true,
           "swappedAxes": true,
           "textFormat": "",
           "useAggregationsUi": true,
           "valuesOptions": {},
           "version": 2,
           "xAxis": {
            "labels": {
             "enabled": true
            },
            "title": {
             "text": "Produtos"
            },
            "type": "-"
           },
           "yAxis": [
            {
             "title": {
              "text": "Vendas totais"
             },
             "type": "-"
            },
            {
             "opposite": true,
             "type": "-"
            }
           ]
          }
         }
        ]
       },
       "datasetPreviewNameToCmdIdMap": {},
       "diffDeletes": [],
       "diffInserts": [],
       "displayType": "redashChart",
       "error": null,
       "errorDetails": null,
       "errorSummary": null,
       "errorTraceType": null,
       "finishTime": 0,
       "globalVars": {},
       "guid": "",
       "height": "auto",
       "hideCommandCode": false,
       "hideCommandResult": false,
       "iPythonMetadata": null,
       "inputWidgets": {},
       "isLockedInExamMode": false,
       "latestUser": "a user",
       "latestUserId": null,
       "listResultMetadata": null,
       "metadata": {
        "byteLimit": 2048000,
        "implicitDf": true,
        "rowLimit": 10000
       },
       "nuid": "f352f596-3065-4973-98ef-f7046b7f1485",
       "origId": 0,
       "parentHierarchy": [],
       "pivotAggregation": null,
       "pivotColumns": null,
       "position": 11.5,
       "resultDbfsErrorMessage": null,
       "resultDbfsStatus": "INLINED_IN_TREE",
       "results": null,
       "showCommandTitle": false,
       "startTime": 0,
       "state": "finished",
       "streamStates": {},
       "subcommandOptions": {
        "queryPlan": {
         "groups": [
          {
           "column": "nome_produto",
           "type": "column"
          },
          {
           "column": "quantidade_total",
           "type": "column"
          }
         ],
         "selects": [
          {
           "column": "nome_produto",
           "type": "column"
          },
          {
           "alias": "column_2fc4d50810",
           "args": [
            {
             "column": "quantidade_total",
             "type": "column"
            }
           ],
           "function": "SUM",
           "type": "function"
          },
          {
           "column": "quantidade_total",
           "type": "column"
          }
         ]
        }
       },
       "submitTime": 0,
       "subtype": "tableResultSubCmd.visualization",
       "tableResultIndex": 0,
       "tableResultSettingsMap": null,
       "useConsistentColors": false,
       "version": "CommandV1",
       "width": "auto",
       "workflows": [],
       "xColumns": null,
       "yColumns": null
      }
     },
     "output_type": "display_data"
    }
   ],
   "source": [
    "%sql\n",
    "--Quais são os produtos mais vendidos?\n",
    "SELECT *\n",
    "FROM gold.venda_total_produto\n",
    "ORDER BY quantidade_total DESC limit 5"
   ]
  },
  {
   "cell_type": "code",
   "execution_count": 0,
   "metadata": {
    "application/vnd.databricks.v1+cell": {
     "cellMetadata": {
      "byteLimit": 2048000,
      "implicitDf": true,
      "rowLimit": 10000
     },
     "inputWidgets": {},
     "nuid": "bb8224ba-0a2c-4a08-a5b0-ac25c1b5cdf2",
     "showTitle": false,
     "title": ""
    }
   },
   "outputs": [
    {
     "output_type": "display_data",
     "data": {
      "text/html": [
       "<style scoped>\n",
       "  .table-result-container {\n",
       "    max-height: 300px;\n",
       "    overflow: auto;\n",
       "  }\n",
       "  table, th, td {\n",
       "    border: 1px solid black;\n",
       "    border-collapse: collapse;\n",
       "  }\n",
       "  th, td {\n",
       "    padding: 5px;\n",
       "  }\n",
       "  th {\n",
       "    text-align: left;\n",
       "  }\n",
       "</style><div class='table-result-container'><table class='table-result'><thead style='background-color: white'><tr><th>nome_produto</th><th>quantidade_total</th><th>valor_total</th><th>data_carga</th><th>data_hora_carga</th></tr></thead><tbody><tr><td>Vinho ABC</td><td>14191</td><td>614.80</td><td>2024-09-19</td><td>2024-09-19T19:51:46.271Z</td></tr><tr><td>Cerveja XYZ</td><td>15036</td><td>606.78</td><td>2024-09-19</td><td>2024-09-19T19:51:46.271Z</td></tr><tr><td>Água Mineral</td><td>12874</td><td>533.71</td><td>2024-09-19</td><td>2024-09-19T19:51:46.271Z</td></tr><tr><td>Refrigerante 123</td><td>11741</td><td>459.77</td><td>2024-09-19</td><td>2024-09-19T19:51:46.271Z</td></tr><tr><td>Suco Natural</td><td>12931</td><td>444.03</td><td>2024-09-19</td><td>2024-09-19T19:51:46.271Z</td></tr></tbody></table></div>"
      ]
     },
     "metadata": {
      "application/vnd.databricks.v1+output": {
       "addedWidgets": {},
       "aggData": [],
       "aggError": "",
       "aggOverflow": false,
       "aggSchema": [],
       "aggSeriesLimitReached": false,
       "aggType": "",
       "arguments": {},
       "columnCustomDisplayInfos": {},
       "data": [
        [
         "Vinho ABC",
         14191,
         "614.80",
         "2024-09-19",
         "2024-09-19T19:51:46.271Z"
        ],
        [
         "Cerveja XYZ",
         15036,
         "606.78",
         "2024-09-19",
         "2024-09-19T19:51:46.271Z"
        ],
        [
         "Água Mineral",
         12874,
         "533.71",
         "2024-09-19",
         "2024-09-19T19:51:46.271Z"
        ],
        [
         "Refrigerante 123",
         11741,
         "459.77",
         "2024-09-19",
         "2024-09-19T19:51:46.271Z"
        ],
        [
         "Suco Natural",
         12931,
         "444.03",
         "2024-09-19",
         "2024-09-19T19:51:46.271Z"
        ]
       ],
       "datasetInfos": [],
       "dbfsResultPath": null,
       "isJsonSchema": true,
       "metadata": {
        "createTempViewForImplicitDf": true,
        "dataframeName": "_sqldf",
        "executionCount": 11
       },
       "overflow": false,
       "plotOptions": {
        "customPlotOptions": {},
        "displayType": "table",
        "pivotAggregation": null,
        "pivotColumns": null,
        "xColumns": null,
        "yColumns": null
       },
       "removedWidgets": [],
       "schema": [
        {
         "metadata": "{\"comment\":\"Nome do produto.\"}",
         "name": "nome_produto",
         "type": "\"string\""
        },
        {
         "metadata": "{\"comment\":\"Quantidade total vendida.\"}",
         "name": "quantidade_total",
         "type": "\"integer\""
        },
        {
         "metadata": "{\"comment\":\"Valor total vendido\"}",
         "name": "valor_total",
         "type": "\"decimal(20,2)\""
        },
        {
         "metadata": "{\"comment\":\"Data que o registro foi carregado\"}",
         "name": "data_carga",
         "type": "\"date\""
        },
        {
         "metadata": "{\"comment\":\"Data e hora que o registro foi carregado\"}",
         "name": "data_hora_carga",
         "type": "\"timestamp\""
        }
       ],
       "type": "table"
      }
     },
     "output_type": "display_data"
    },
    {
     "output_type": "display_data",
     "data": {
      "text/plain": [
       "Databricks visualization. Run in Databricks to view."
      ]
     },
     "metadata": {
      "application/vnd.databricks.v1.subcommand+json": {
       "baseErrorDetails": null,
       "bindings": {},
       "collapsed": false,
       "command": "%sql WITH q AS (SELECT *\nFROM gold.venda_total_produto\nORDER BY valor_total DESC limit 5) SELECT `nome_produto`,SUM(`valor_total`) `column_2fc4d5084`,`valor_total` FROM q GROUP BY `nome_produto`,`valor_total`",
       "commandTitle": "Faturamento",
       "commandType": "auto",
       "commandVersion": 0,
       "commentThread": [],
       "commentsVisible": false,
       "contentSha256Hex": null,
       "customPlotOptions": {
        "redashChart": [
         {
          "key": "type",
          "value": "CHART"
         },
         {
          "key": "options",
          "value": {
           "alignYAxesAtZero": true,
           "coefficient": 1,
           "columnConfigurationMap": {
            "series": {
             "column": "valor_total",
             "id": "column_2fc4d5087"
            },
            "x": {
             "column": "nome_produto",
             "id": "column_2fc4d5086"
            },
            "y": [
             {
              "column": "valor_total",
              "id": "column_2fc4d5084",
              "transform": "SUM"
             }
            ]
           },
           "dateTimeFormat": "DD/MM/YYYY HH:mm",
           "direction": {
            "type": "counterclockwise"
           },
           "error_y": {
            "type": "data",
            "visible": true
           },
           "globalSeriesType": "column",
           "hideXAxis": false,
           "isAggregationOn": true,
           "legend": {
            "traceorder": "normal"
           },
           "missingValuesAsZero": true,
           "numberFormat": "0,0.[00000]",
           "percentFormat": "0[.]00%",
           "series": {
            "error_y": {
             "type": "data",
             "visible": true
            },
            "stacking": "stack"
           },
           "seriesOptions": {
            "column_2fc4d5084": {
             "type": "column",
             "yAxis": 0
            }
           },
           "showDataLabels": true,
           "sizemode": "diameter",
           "sortX": false,
           "sortY": true,
           "swappedAxes": false,
           "textFormat": "",
           "useAggregationsUi": true,
           "valuesOptions": {},
           "version": 2,
           "xAxis": {
            "labels": {
             "enabled": true
            },
            "title": {
             "text": "Produtos vendidos"
            },
            "type": "-"
           },
           "yAxis": [
            {
             "title": {
              "text": "Faturamento total"
             },
             "type": "-"
            },
            {
             "opposite": true,
             "type": "-"
            }
           ]
          }
         }
        ]
       },
       "datasetPreviewNameToCmdIdMap": {},
       "diffDeletes": [],
       "diffInserts": [],
       "displayType": "redashChart",
       "error": null,
       "errorDetails": null,
       "errorSummary": null,
       "errorTraceType": null,
       "finishTime": 0,
       "globalVars": {},
       "guid": "",
       "height": "auto",
       "hideCommandCode": false,
       "hideCommandResult": false,
       "iPythonMetadata": null,
       "inputWidgets": {},
       "isLockedInExamMode": false,
       "latestUser": "a user",
       "latestUserId": null,
       "listResultMetadata": null,
       "metadata": {
        "byteLimit": 2048000,
        "implicitDf": true,
        "rowLimit": 10000
       },
       "nuid": "61351bfc-385a-4df5-b9b8-3ab3fe9094aa",
       "origId": 0,
       "parentHierarchy": [],
       "pivotAggregation": null,
       "pivotColumns": null,
       "position": 12.0,
       "resultDbfsErrorMessage": null,
       "resultDbfsStatus": "INLINED_IN_TREE",
       "results": null,
       "showCommandTitle": false,
       "startTime": 0,
       "state": "finished",
       "streamStates": {},
       "subcommandOptions": {
        "queryPlan": {
         "groups": [
          {
           "column": "nome_produto",
           "type": "column"
          },
          {
           "column": "valor_total",
           "type": "column"
          }
         ],
         "selects": [
          {
           "column": "nome_produto",
           "type": "column"
          },
          {
           "alias": "column_2fc4d5084",
           "args": [
            {
             "column": "valor_total",
             "type": "column"
            }
           ],
           "function": "SUM",
           "type": "function"
          },
          {
           "column": "valor_total",
           "type": "column"
          }
         ]
        }
       },
       "submitTime": 0,
       "subtype": "tableResultSubCmd.visualization",
       "tableResultIndex": 0,
       "tableResultSettingsMap": null,
       "useConsistentColors": false,
       "version": "CommandV1",
       "width": "auto",
       "workflows": [],
       "xColumns": null,
       "yColumns": null
      }
     },
     "output_type": "display_data"
    }
   ],
   "source": [
    "%sql\n",
    "--Quais são os produtos que mais geraram faturamento?\n",
    "SELECT *\n",
    "FROM gold.venda_total_produto\n",
    "ORDER BY valor_total DESC limit 5"
   ]
  }
 ],
 "metadata": {
  "application/vnd.databricks.v1+notebook": {
   "dashboards": [],
   "environmentMetadata": null,
   "language": "python",
   "notebookMetadata": {
    "mostRecentlyExecutedCommandWithImplicitDF": {
     "commandId": 770228631350414,
     "dataframes": [
      "_sqldf"
     ]
    },
    "pythonIndentUnit": 4
   },
   "notebookName": "GoldVendaTotalPedidos",
   "widgets": {}
  }
 },
 "nbformat": 4,
 "nbformat_minor": 0
}
